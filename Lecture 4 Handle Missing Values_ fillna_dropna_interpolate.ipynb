{
 "cells": [
  {
   "cell_type": "markdown",
   "source": [
    "## Topic Covered here\n",
    "1. fillna to fill missing values using different ways\n",
    "2. interpolate to make a guess on missing values using interpolation\n",
    "3. dropna to drop rows with missing values"
   ],
   "metadata": {
    "collapsed": false,
    "pycharm": {
     "name": "#%% md\n"
    }
   }
  },
  {
   "cell_type": "markdown",
   "source": [
    "### df.fillna()\n",
    "1. df.fillna(0) # when we need to replace every NaN values of the entire data set with zero\n",
    "2. df.fillna({\n",
    "                        'column_name': replacing value,\n",
    "                        'column_name': replacing value\n",
    "                         }\n",
    "3. df.fillna(method='ffill') # filling forwards method\n",
    "4. new_df =df.fillna(method='ffill',axis='columns') # for copying Value Horizonntally\n",
    "5. new_df =df.fillna(method='ffill',limit=1)  # for limiting the no of copying"
   ],
   "metadata": {
    "collapsed": false,
    "pycharm": {
     "name": "#%% md\n"
    }
   }
  },
  {
   "cell_type": "markdown",
   "source": [
    "### df.interpolate()\n",
    "1. new_df = df.interpolate()  # missing values will be found by using interpolation\n",
    "2. new_df = df.interpolate(method='time')  # missing values will be found by using interpolation"
   ],
   "metadata": {
    "collapsed": false,
    "pycharm": {
     "name": "#%% md\n"
    }
   }
  },
  {
   "cell_type": "markdown",
   "source": [
    "## df.dropna()\n",
    "It usually drops the row if it contains NaN\n",
    "\n",
    "1. To drop rows containing one or More NaN\n",
    "    df.dropna()\n",
    "2. To drop rows if rows contain all NaN Values\n",
    "    new_df= df.dropna(how=\"all\")\n",
    "3. If we want to control the number of NaN needs for droping a row\n",
    "    new_df= df.dropna(thresh=1)\n",
    "    new_df= df.dropna(thresh=2)\n",
    "    new_df= df.dropna(thresh=3)\n"
   ],
   "metadata": {
    "collapsed": false,
    "pycharm": {
     "name": "#%% md\n"
    }
   }
  },
  {
   "cell_type": "code",
   "execution_count": 1,
   "outputs": [],
   "source": [
    "import pandas as pd\n",
    "import numpy as np"
   ],
   "metadata": {
    "collapsed": false,
    "pycharm": {
     "name": "#%%\n"
    }
   }
  },
  {
   "cell_type": "code",
   "execution_count": 2,
   "outputs": [],
   "source": [
    "# creating Dataframe\n",
    "\n",
    "df = pd.read_csv(\"weather_data_for_tut5.csv\")"
   ],
   "metadata": {
    "collapsed": false,
    "pycharm": {
     "name": "#%%\n"
    }
   }
  },
  {
   "cell_type": "code",
   "execution_count": 3,
   "outputs": [
    {
     "data": {
      "text/plain": "str"
     },
     "execution_count": 3,
     "metadata": {},
     "output_type": "execute_result"
    }
   ],
   "source": [
    "type(df.day[0])\n",
    "# IT IS CSV WE NEED TO MAKE THIS COLUMN ON DATE FORMAT TO DO THAT WE ARE GOING TO ADD A NEW ARGUMENT WITH READ CSV"
   ],
   "metadata": {
    "collapsed": false,
    "pycharm": {
     "name": "#%%\n"
    }
   }
  },
  {
   "cell_type": "code",
   "execution_count": 8,
   "outputs": [
    {
     "data": {
      "text/plain": "         day  temperature  windspeed   event\n0 2017-01-01         32.0        6.0    Rain\n1 2017-01-04          NaN        7.0   Sunny\n2 2017-01-05         28.0        NaN    Snow\n3 2017-01-06          NaN        7.0     NaN\n4 2017-01-07         32.0        NaN    Rain\n5 2017-01-08         31.0        2.0   Sunny\n6 2017-01-09          NaN        NaN     NaN\n7 2017-01-10         34.0        8.0  Cloudy\n8 2017-01-11         40.0       12.0   Sunny",
      "text/html": "<div>\n<style scoped>\n    .dataframe tbody tr th:only-of-type {\n        vertical-align: middle;\n    }\n\n    .dataframe tbody tr th {\n        vertical-align: top;\n    }\n\n    .dataframe thead th {\n        text-align: right;\n    }\n</style>\n<table border=\"1\" class=\"dataframe\">\n  <thead>\n    <tr style=\"text-align: right;\">\n      <th></th>\n      <th>day</th>\n      <th>temperature</th>\n      <th>windspeed</th>\n      <th>event</th>\n    </tr>\n  </thead>\n  <tbody>\n    <tr>\n      <th>0</th>\n      <td>2017-01-01</td>\n      <td>32.0</td>\n      <td>6.0</td>\n      <td>Rain</td>\n    </tr>\n    <tr>\n      <th>1</th>\n      <td>2017-01-04</td>\n      <td>NaN</td>\n      <td>7.0</td>\n      <td>Sunny</td>\n    </tr>\n    <tr>\n      <th>2</th>\n      <td>2017-01-05</td>\n      <td>28.0</td>\n      <td>NaN</td>\n      <td>Snow</td>\n    </tr>\n    <tr>\n      <th>3</th>\n      <td>2017-01-06</td>\n      <td>NaN</td>\n      <td>7.0</td>\n      <td>NaN</td>\n    </tr>\n    <tr>\n      <th>4</th>\n      <td>2017-01-07</td>\n      <td>32.0</td>\n      <td>NaN</td>\n      <td>Rain</td>\n    </tr>\n    <tr>\n      <th>5</th>\n      <td>2017-01-08</td>\n      <td>31.0</td>\n      <td>2.0</td>\n      <td>Sunny</td>\n    </tr>\n    <tr>\n      <th>6</th>\n      <td>2017-01-09</td>\n      <td>NaN</td>\n      <td>NaN</td>\n      <td>NaN</td>\n    </tr>\n    <tr>\n      <th>7</th>\n      <td>2017-01-10</td>\n      <td>34.0</td>\n      <td>8.0</td>\n      <td>Cloudy</td>\n    </tr>\n    <tr>\n      <th>8</th>\n      <td>2017-01-11</td>\n      <td>40.0</td>\n      <td>12.0</td>\n      <td>Sunny</td>\n    </tr>\n  </tbody>\n</table>\n</div>"
     },
     "execution_count": 8,
     "metadata": {},
     "output_type": "execute_result"
    }
   ],
   "source": [
    "df = pd.read_csv(\"weather_data_for_tut5.csv\", parse_dates=[\"day\"])\n",
    "df"
   ],
   "metadata": {
    "collapsed": false,
    "pycharm": {
     "name": "#%%\n"
    }
   }
  },
  {
   "cell_type": "code",
   "execution_count": 9,
   "outputs": [
    {
     "data": {
      "text/plain": "            temperature  windspeed   event\nday                                       \n2017-01-01         32.0        6.0    Rain\n2017-01-04          NaN        7.0   Sunny\n2017-01-05         28.0        NaN    Snow\n2017-01-06          NaN        7.0     NaN\n2017-01-07         32.0        NaN    Rain\n2017-01-08         31.0        2.0   Sunny\n2017-01-09          NaN        NaN     NaN\n2017-01-10         34.0        8.0  Cloudy\n2017-01-11         40.0       12.0   Sunny",
      "text/html": "<div>\n<style scoped>\n    .dataframe tbody tr th:only-of-type {\n        vertical-align: middle;\n    }\n\n    .dataframe tbody tr th {\n        vertical-align: top;\n    }\n\n    .dataframe thead th {\n        text-align: right;\n    }\n</style>\n<table border=\"1\" class=\"dataframe\">\n  <thead>\n    <tr style=\"text-align: right;\">\n      <th></th>\n      <th>temperature</th>\n      <th>windspeed</th>\n      <th>event</th>\n    </tr>\n    <tr>\n      <th>day</th>\n      <th></th>\n      <th></th>\n      <th></th>\n    </tr>\n  </thead>\n  <tbody>\n    <tr>\n      <th>2017-01-01</th>\n      <td>32.0</td>\n      <td>6.0</td>\n      <td>Rain</td>\n    </tr>\n    <tr>\n      <th>2017-01-04</th>\n      <td>NaN</td>\n      <td>7.0</td>\n      <td>Sunny</td>\n    </tr>\n    <tr>\n      <th>2017-01-05</th>\n      <td>28.0</td>\n      <td>NaN</td>\n      <td>Snow</td>\n    </tr>\n    <tr>\n      <th>2017-01-06</th>\n      <td>NaN</td>\n      <td>7.0</td>\n      <td>NaN</td>\n    </tr>\n    <tr>\n      <th>2017-01-07</th>\n      <td>32.0</td>\n      <td>NaN</td>\n      <td>Rain</td>\n    </tr>\n    <tr>\n      <th>2017-01-08</th>\n      <td>31.0</td>\n      <td>2.0</td>\n      <td>Sunny</td>\n    </tr>\n    <tr>\n      <th>2017-01-09</th>\n      <td>NaN</td>\n      <td>NaN</td>\n      <td>NaN</td>\n    </tr>\n    <tr>\n      <th>2017-01-10</th>\n      <td>34.0</td>\n      <td>8.0</td>\n      <td>Cloudy</td>\n    </tr>\n    <tr>\n      <th>2017-01-11</th>\n      <td>40.0</td>\n      <td>12.0</td>\n      <td>Sunny</td>\n    </tr>\n  </tbody>\n</table>\n</div>"
     },
     "execution_count": 9,
     "metadata": {},
     "output_type": "execute_result"
    }
   ],
   "source": [
    "# I GOT DAY AS A COLUMN I WANT TO MAKE THIS COLUMN AS INDEX\n",
    "df.set_index('day',inplace=True)\n",
    "df"
   ],
   "metadata": {
    "collapsed": false,
    "pycharm": {
     "name": "#%%\n"
    }
   }
  },
  {
   "cell_type": "code",
   "execution_count": 11,
   "outputs": [
    {
     "data": {
      "text/plain": "            temperature  windspeed   event\nday                                       \n2017-01-01         32.0        6.0    Rain\n2017-01-04          0.0        7.0   Sunny\n2017-01-05         28.0        0.0    Snow\n2017-01-06          0.0        7.0       0\n2017-01-07         32.0        0.0    Rain\n2017-01-08         31.0        2.0   Sunny\n2017-01-09          0.0        0.0       0\n2017-01-10         34.0        8.0  Cloudy\n2017-01-11         40.0       12.0   Sunny",
      "text/html": "<div>\n<style scoped>\n    .dataframe tbody tr th:only-of-type {\n        vertical-align: middle;\n    }\n\n    .dataframe tbody tr th {\n        vertical-align: top;\n    }\n\n    .dataframe thead th {\n        text-align: right;\n    }\n</style>\n<table border=\"1\" class=\"dataframe\">\n  <thead>\n    <tr style=\"text-align: right;\">\n      <th></th>\n      <th>temperature</th>\n      <th>windspeed</th>\n      <th>event</th>\n    </tr>\n    <tr>\n      <th>day</th>\n      <th></th>\n      <th></th>\n      <th></th>\n    </tr>\n  </thead>\n  <tbody>\n    <tr>\n      <th>2017-01-01</th>\n      <td>32.0</td>\n      <td>6.0</td>\n      <td>Rain</td>\n    </tr>\n    <tr>\n      <th>2017-01-04</th>\n      <td>0.0</td>\n      <td>7.0</td>\n      <td>Sunny</td>\n    </tr>\n    <tr>\n      <th>2017-01-05</th>\n      <td>28.0</td>\n      <td>0.0</td>\n      <td>Snow</td>\n    </tr>\n    <tr>\n      <th>2017-01-06</th>\n      <td>0.0</td>\n      <td>7.0</td>\n      <td>0</td>\n    </tr>\n    <tr>\n      <th>2017-01-07</th>\n      <td>32.0</td>\n      <td>0.0</td>\n      <td>Rain</td>\n    </tr>\n    <tr>\n      <th>2017-01-08</th>\n      <td>31.0</td>\n      <td>2.0</td>\n      <td>Sunny</td>\n    </tr>\n    <tr>\n      <th>2017-01-09</th>\n      <td>0.0</td>\n      <td>0.0</td>\n      <td>0</td>\n    </tr>\n    <tr>\n      <th>2017-01-10</th>\n      <td>34.0</td>\n      <td>8.0</td>\n      <td>Cloudy</td>\n    </tr>\n    <tr>\n      <th>2017-01-11</th>\n      <td>40.0</td>\n      <td>12.0</td>\n      <td>Sunny</td>\n    </tr>\n  </tbody>\n</table>\n</div>"
     },
     "execution_count": 11,
     "metadata": {},
     "output_type": "execute_result"
    }
   ],
   "source": [
    "# we need to replace all NaN values with other values\n",
    "new_df = df.fillna(0)\n",
    "# Everything that was NaN replaced with 0.0\n",
    "new_df"
   ],
   "metadata": {
    "collapsed": false,
    "pycharm": {
     "name": "#%%\n"
    }
   }
  },
  {
   "cell_type": "markdown",
   "source": [
    "### df.fillna()\n",
    "1. df.fillna(0) # when we need to replace every NaN values of the entire data set with zero\n",
    "2. df.fillna({\n",
    "                        'column_name': replacing value,\n",
    "                        'column_name': replacing value\n",
    "                         }\n",
    "3. df.fillna(method='ffill') # filling forwards method\n",
    "4. new_df =df.fillna(method='ffill',axis='columns') # for copying Value Horizonntally\n",
    "5. new_df =df.fillna(method='ffill',limit=1)  # for limiting the no of copying"
   ],
   "metadata": {
    "collapsed": false,
    "pycharm": {
     "name": "#%% md\n"
    }
   }
  },
  {
   "cell_type": "code",
   "execution_count": 12,
   "outputs": [
    {
     "data": {
      "text/plain": "            temperature  windspeed     event\nday                                         \n2017-01-01         32.0        6.0      Rain\n2017-01-04          0.0        7.0     Sunny\n2017-01-05         28.0        0.0      Snow\n2017-01-06          0.0        7.0  no event\n2017-01-07         32.0        0.0      Rain\n2017-01-08         31.0        2.0     Sunny\n2017-01-09          0.0        0.0  no event\n2017-01-10         34.0        8.0    Cloudy\n2017-01-11         40.0       12.0     Sunny",
      "text/html": "<div>\n<style scoped>\n    .dataframe tbody tr th:only-of-type {\n        vertical-align: middle;\n    }\n\n    .dataframe tbody tr th {\n        vertical-align: top;\n    }\n\n    .dataframe thead th {\n        text-align: right;\n    }\n</style>\n<table border=\"1\" class=\"dataframe\">\n  <thead>\n    <tr style=\"text-align: right;\">\n      <th></th>\n      <th>temperature</th>\n      <th>windspeed</th>\n      <th>event</th>\n    </tr>\n    <tr>\n      <th>day</th>\n      <th></th>\n      <th></th>\n      <th></th>\n    </tr>\n  </thead>\n  <tbody>\n    <tr>\n      <th>2017-01-01</th>\n      <td>32.0</td>\n      <td>6.0</td>\n      <td>Rain</td>\n    </tr>\n    <tr>\n      <th>2017-01-04</th>\n      <td>0.0</td>\n      <td>7.0</td>\n      <td>Sunny</td>\n    </tr>\n    <tr>\n      <th>2017-01-05</th>\n      <td>28.0</td>\n      <td>0.0</td>\n      <td>Snow</td>\n    </tr>\n    <tr>\n      <th>2017-01-06</th>\n      <td>0.0</td>\n      <td>7.0</td>\n      <td>no event</td>\n    </tr>\n    <tr>\n      <th>2017-01-07</th>\n      <td>32.0</td>\n      <td>0.0</td>\n      <td>Rain</td>\n    </tr>\n    <tr>\n      <th>2017-01-08</th>\n      <td>31.0</td>\n      <td>2.0</td>\n      <td>Sunny</td>\n    </tr>\n    <tr>\n      <th>2017-01-09</th>\n      <td>0.0</td>\n      <td>0.0</td>\n      <td>no event</td>\n    </tr>\n    <tr>\n      <th>2017-01-10</th>\n      <td>34.0</td>\n      <td>8.0</td>\n      <td>Cloudy</td>\n    </tr>\n    <tr>\n      <th>2017-01-11</th>\n      <td>40.0</td>\n      <td>12.0</td>\n      <td>Sunny</td>\n    </tr>\n  </tbody>\n</table>\n</div>"
     },
     "execution_count": 12,
     "metadata": {},
     "output_type": "execute_result"
    }
   ],
   "source": [
    "# in the case of event value zero is irrelavent if we want to use na for different values we need to import a dictionary\n",
    "new_df = df.fillna({\n",
    "    'temperature': 0,\n",
    "    'windspeed' : 0,\n",
    "    'event': 'no event'\n",
    "})\n",
    "new_df"
   ],
   "metadata": {
    "collapsed": false,
    "pycharm": {
     "name": "#%%\n"
    }
   }
  },
  {
   "cell_type": "code",
   "execution_count": 14,
   "outputs": [
    {
     "data": {
      "text/plain": "            temperature  windspeed   event\nday                                       \n2017-01-01         32.0        6.0    Rain\n2017-01-04         32.0        7.0   Sunny\n2017-01-05         28.0        7.0    Snow\n2017-01-06         28.0        7.0    Snow\n2017-01-07         32.0        7.0    Rain\n2017-01-08         31.0        2.0   Sunny\n2017-01-09         31.0        2.0   Sunny\n2017-01-10         34.0        8.0  Cloudy\n2017-01-11         40.0       12.0   Sunny",
      "text/html": "<div>\n<style scoped>\n    .dataframe tbody tr th:only-of-type {\n        vertical-align: middle;\n    }\n\n    .dataframe tbody tr th {\n        vertical-align: top;\n    }\n\n    .dataframe thead th {\n        text-align: right;\n    }\n</style>\n<table border=\"1\" class=\"dataframe\">\n  <thead>\n    <tr style=\"text-align: right;\">\n      <th></th>\n      <th>temperature</th>\n      <th>windspeed</th>\n      <th>event</th>\n    </tr>\n    <tr>\n      <th>day</th>\n      <th></th>\n      <th></th>\n      <th></th>\n    </tr>\n  </thead>\n  <tbody>\n    <tr>\n      <th>2017-01-01</th>\n      <td>32.0</td>\n      <td>6.0</td>\n      <td>Rain</td>\n    </tr>\n    <tr>\n      <th>2017-01-04</th>\n      <td>32.0</td>\n      <td>7.0</td>\n      <td>Sunny</td>\n    </tr>\n    <tr>\n      <th>2017-01-05</th>\n      <td>28.0</td>\n      <td>7.0</td>\n      <td>Snow</td>\n    </tr>\n    <tr>\n      <th>2017-01-06</th>\n      <td>28.0</td>\n      <td>7.0</td>\n      <td>Snow</td>\n    </tr>\n    <tr>\n      <th>2017-01-07</th>\n      <td>32.0</td>\n      <td>7.0</td>\n      <td>Rain</td>\n    </tr>\n    <tr>\n      <th>2017-01-08</th>\n      <td>31.0</td>\n      <td>2.0</td>\n      <td>Sunny</td>\n    </tr>\n    <tr>\n      <th>2017-01-09</th>\n      <td>31.0</td>\n      <td>2.0</td>\n      <td>Sunny</td>\n    </tr>\n    <tr>\n      <th>2017-01-10</th>\n      <td>34.0</td>\n      <td>8.0</td>\n      <td>Cloudy</td>\n    </tr>\n    <tr>\n      <th>2017-01-11</th>\n      <td>40.0</td>\n      <td>12.0</td>\n      <td>Sunny</td>\n    </tr>\n  </tbody>\n</table>\n</div>"
     },
     "execution_count": 14,
     "metadata": {},
     "output_type": "execute_result"
    }
   ],
   "source": [
    "# but now I am not okay or satisfied with the data, because the value of the temperature 0 indicates the o degree celsius , but in real it was not representing that\n",
    "\n",
    "new_df =df.fillna(method='ffill') # forward fill kore\n",
    "\n",
    "new_df"
   ],
   "metadata": {
    "collapsed": false,
    "pycharm": {
     "name": "#%%\n"
    }
   }
  },
  {
   "cell_type": "code",
   "execution_count": 15,
   "outputs": [
    {
     "data": {
      "text/plain": "            temperature  windspeed   event\nday                                       \n2017-01-01         32.0        6.0    Rain\n2017-01-04         28.0        7.0   Sunny\n2017-01-05         28.0        7.0    Snow\n2017-01-06         32.0        7.0    Rain\n2017-01-07         32.0        2.0    Rain\n2017-01-08         31.0        2.0   Sunny\n2017-01-09         34.0        8.0  Cloudy\n2017-01-10         34.0        8.0  Cloudy\n2017-01-11         40.0       12.0   Sunny",
      "text/html": "<div>\n<style scoped>\n    .dataframe tbody tr th:only-of-type {\n        vertical-align: middle;\n    }\n\n    .dataframe tbody tr th {\n        vertical-align: top;\n    }\n\n    .dataframe thead th {\n        text-align: right;\n    }\n</style>\n<table border=\"1\" class=\"dataframe\">\n  <thead>\n    <tr style=\"text-align: right;\">\n      <th></th>\n      <th>temperature</th>\n      <th>windspeed</th>\n      <th>event</th>\n    </tr>\n    <tr>\n      <th>day</th>\n      <th></th>\n      <th></th>\n      <th></th>\n    </tr>\n  </thead>\n  <tbody>\n    <tr>\n      <th>2017-01-01</th>\n      <td>32.0</td>\n      <td>6.0</td>\n      <td>Rain</td>\n    </tr>\n    <tr>\n      <th>2017-01-04</th>\n      <td>28.0</td>\n      <td>7.0</td>\n      <td>Sunny</td>\n    </tr>\n    <tr>\n      <th>2017-01-05</th>\n      <td>28.0</td>\n      <td>7.0</td>\n      <td>Snow</td>\n    </tr>\n    <tr>\n      <th>2017-01-06</th>\n      <td>32.0</td>\n      <td>7.0</td>\n      <td>Rain</td>\n    </tr>\n    <tr>\n      <th>2017-01-07</th>\n      <td>32.0</td>\n      <td>2.0</td>\n      <td>Rain</td>\n    </tr>\n    <tr>\n      <th>2017-01-08</th>\n      <td>31.0</td>\n      <td>2.0</td>\n      <td>Sunny</td>\n    </tr>\n    <tr>\n      <th>2017-01-09</th>\n      <td>34.0</td>\n      <td>8.0</td>\n      <td>Cloudy</td>\n    </tr>\n    <tr>\n      <th>2017-01-10</th>\n      <td>34.0</td>\n      <td>8.0</td>\n      <td>Cloudy</td>\n    </tr>\n    <tr>\n      <th>2017-01-11</th>\n      <td>40.0</td>\n      <td>12.0</td>\n      <td>Sunny</td>\n    </tr>\n  </tbody>\n</table>\n</div>"
     },
     "execution_count": 15,
     "metadata": {},
     "output_type": "execute_result"
    }
   ],
   "source": [
    "# for copying next days value instead of copying previous value : df.fillna('bfill')\n",
    "new_df =df.fillna(method='bfill')# ager value ta fill kore\n",
    "\n",
    "new_df"
   ],
   "metadata": {
    "collapsed": false,
    "pycharm": {
     "name": "#%%\n"
    }
   }
  },
  {
   "cell_type": "markdown",
   "source": [
    "### axis parameter of fillna\n",
    "it is used to copying value horizontally"
   ],
   "metadata": {
    "collapsed": false,
    "pycharm": {
     "name": "#%% md\n"
    }
   }
  },
  {
   "cell_type": "code",
   "execution_count": 16,
   "outputs": [
    {
     "data": {
      "text/plain": "           temperature windspeed   event\nday                                     \n2017-01-01        32.0       6.0    Rain\n2017-01-04         NaN       7.0   Sunny\n2017-01-05        28.0      28.0    Snow\n2017-01-06         NaN       7.0     7.0\n2017-01-07        32.0      32.0    Rain\n2017-01-08        31.0       2.0   Sunny\n2017-01-09         NaN       NaN     NaN\n2017-01-10        34.0       8.0  Cloudy\n2017-01-11        40.0      12.0   Sunny",
      "text/html": "<div>\n<style scoped>\n    .dataframe tbody tr th:only-of-type {\n        vertical-align: middle;\n    }\n\n    .dataframe tbody tr th {\n        vertical-align: top;\n    }\n\n    .dataframe thead th {\n        text-align: right;\n    }\n</style>\n<table border=\"1\" class=\"dataframe\">\n  <thead>\n    <tr style=\"text-align: right;\">\n      <th></th>\n      <th>temperature</th>\n      <th>windspeed</th>\n      <th>event</th>\n    </tr>\n    <tr>\n      <th>day</th>\n      <th></th>\n      <th></th>\n      <th></th>\n    </tr>\n  </thead>\n  <tbody>\n    <tr>\n      <th>2017-01-01</th>\n      <td>32.0</td>\n      <td>6.0</td>\n      <td>Rain</td>\n    </tr>\n    <tr>\n      <th>2017-01-04</th>\n      <td>NaN</td>\n      <td>7.0</td>\n      <td>Sunny</td>\n    </tr>\n    <tr>\n      <th>2017-01-05</th>\n      <td>28.0</td>\n      <td>28.0</td>\n      <td>Snow</td>\n    </tr>\n    <tr>\n      <th>2017-01-06</th>\n      <td>NaN</td>\n      <td>7.0</td>\n      <td>7.0</td>\n    </tr>\n    <tr>\n      <th>2017-01-07</th>\n      <td>32.0</td>\n      <td>32.0</td>\n      <td>Rain</td>\n    </tr>\n    <tr>\n      <th>2017-01-08</th>\n      <td>31.0</td>\n      <td>2.0</td>\n      <td>Sunny</td>\n    </tr>\n    <tr>\n      <th>2017-01-09</th>\n      <td>NaN</td>\n      <td>NaN</td>\n      <td>NaN</td>\n    </tr>\n    <tr>\n      <th>2017-01-10</th>\n      <td>34.0</td>\n      <td>8.0</td>\n      <td>Cloudy</td>\n    </tr>\n    <tr>\n      <th>2017-01-11</th>\n      <td>40.0</td>\n      <td>12.0</td>\n      <td>Sunny</td>\n    </tr>\n  </tbody>\n</table>\n</div>"
     },
     "execution_count": 16,
     "metadata": {},
     "output_type": "execute_result"
    }
   ],
   "source": [
    "new_df =df.fillna(method='ffill',axis='columns')\n",
    "new_df"
   ],
   "metadata": {
    "collapsed": false,
    "pycharm": {
     "name": "#%%\n"
    }
   }
  },
  {
   "cell_type": "markdown",
   "source": [
    "### limit is used to lmit the copying iterations\n",
    "new_df =df.fillna(method='ffill',limit=1)"
   ],
   "metadata": {
    "collapsed": false,
    "pycharm": {
     "name": "#%% md\n"
    }
   }
  },
  {
   "cell_type": "code",
   "execution_count": 17,
   "outputs": [
    {
     "data": {
      "text/plain": "            temperature  windspeed   event\nday                                       \n2017-01-01         32.0        6.0    Rain\n2017-01-04         32.0        7.0   Sunny\n2017-01-05         28.0        7.0    Snow\n2017-01-06         28.0        7.0    Snow\n2017-01-07         32.0        7.0    Rain\n2017-01-08         31.0        2.0   Sunny\n2017-01-09         31.0        2.0   Sunny\n2017-01-10         34.0        8.0  Cloudy\n2017-01-11         40.0       12.0   Sunny",
      "text/html": "<div>\n<style scoped>\n    .dataframe tbody tr th:only-of-type {\n        vertical-align: middle;\n    }\n\n    .dataframe tbody tr th {\n        vertical-align: top;\n    }\n\n    .dataframe thead th {\n        text-align: right;\n    }\n</style>\n<table border=\"1\" class=\"dataframe\">\n  <thead>\n    <tr style=\"text-align: right;\">\n      <th></th>\n      <th>temperature</th>\n      <th>windspeed</th>\n      <th>event</th>\n    </tr>\n    <tr>\n      <th>day</th>\n      <th></th>\n      <th></th>\n      <th></th>\n    </tr>\n  </thead>\n  <tbody>\n    <tr>\n      <th>2017-01-01</th>\n      <td>32.0</td>\n      <td>6.0</td>\n      <td>Rain</td>\n    </tr>\n    <tr>\n      <th>2017-01-04</th>\n      <td>32.0</td>\n      <td>7.0</td>\n      <td>Sunny</td>\n    </tr>\n    <tr>\n      <th>2017-01-05</th>\n      <td>28.0</td>\n      <td>7.0</td>\n      <td>Snow</td>\n    </tr>\n    <tr>\n      <th>2017-01-06</th>\n      <td>28.0</td>\n      <td>7.0</td>\n      <td>Snow</td>\n    </tr>\n    <tr>\n      <th>2017-01-07</th>\n      <td>32.0</td>\n      <td>7.0</td>\n      <td>Rain</td>\n    </tr>\n    <tr>\n      <th>2017-01-08</th>\n      <td>31.0</td>\n      <td>2.0</td>\n      <td>Sunny</td>\n    </tr>\n    <tr>\n      <th>2017-01-09</th>\n      <td>31.0</td>\n      <td>2.0</td>\n      <td>Sunny</td>\n    </tr>\n    <tr>\n      <th>2017-01-10</th>\n      <td>34.0</td>\n      <td>8.0</td>\n      <td>Cloudy</td>\n    </tr>\n    <tr>\n      <th>2017-01-11</th>\n      <td>40.0</td>\n      <td>12.0</td>\n      <td>Sunny</td>\n    </tr>\n  </tbody>\n</table>\n</div>"
     },
     "execution_count": 17,
     "metadata": {},
     "output_type": "execute_result"
    }
   ],
   "source": [
    "new_df =df.fillna(method='ffill',limit=1)\n",
    "new_df"
   ],
   "metadata": {
    "collapsed": false,
    "pycharm": {
     "name": "#%%\n"
    }
   }
  },
  {
   "cell_type": "markdown",
   "source": [
    "### df.interpolate()\n",
    "1. new_df = df.interpolate()  # missing values will be found by using interpolation\n",
    "2. new_df = df.interpolate(method='time')  # missing values will be found by using interpolation"
   ],
   "metadata": {
    "collapsed": false,
    "pycharm": {
     "name": "#%% md\n"
    }
   }
  },
  {
   "cell_type": "code",
   "execution_count": 19,
   "outputs": [
    {
     "data": {
      "text/plain": "            temperature  windspeed   event\nday                                       \n2017-01-01         32.0        6.0    Rain\n2017-01-04         30.0        7.0   Sunny\n2017-01-05         28.0        7.0    Snow\n2017-01-06         30.0        7.0     NaN\n2017-01-07         32.0        4.5    Rain\n2017-01-08         31.0        2.0   Sunny\n2017-01-09         32.5        5.0     NaN\n2017-01-10         34.0        8.0  Cloudy\n2017-01-11         40.0       12.0   Sunny",
      "text/html": "<div>\n<style scoped>\n    .dataframe tbody tr th:only-of-type {\n        vertical-align: middle;\n    }\n\n    .dataframe tbody tr th {\n        vertical-align: top;\n    }\n\n    .dataframe thead th {\n        text-align: right;\n    }\n</style>\n<table border=\"1\" class=\"dataframe\">\n  <thead>\n    <tr style=\"text-align: right;\">\n      <th></th>\n      <th>temperature</th>\n      <th>windspeed</th>\n      <th>event</th>\n    </tr>\n    <tr>\n      <th>day</th>\n      <th></th>\n      <th></th>\n      <th></th>\n    </tr>\n  </thead>\n  <tbody>\n    <tr>\n      <th>2017-01-01</th>\n      <td>32.0</td>\n      <td>6.0</td>\n      <td>Rain</td>\n    </tr>\n    <tr>\n      <th>2017-01-04</th>\n      <td>30.0</td>\n      <td>7.0</td>\n      <td>Sunny</td>\n    </tr>\n    <tr>\n      <th>2017-01-05</th>\n      <td>28.0</td>\n      <td>7.0</td>\n      <td>Snow</td>\n    </tr>\n    <tr>\n      <th>2017-01-06</th>\n      <td>30.0</td>\n      <td>7.0</td>\n      <td>NaN</td>\n    </tr>\n    <tr>\n      <th>2017-01-07</th>\n      <td>32.0</td>\n      <td>4.5</td>\n      <td>Rain</td>\n    </tr>\n    <tr>\n      <th>2017-01-08</th>\n      <td>31.0</td>\n      <td>2.0</td>\n      <td>Sunny</td>\n    </tr>\n    <tr>\n      <th>2017-01-09</th>\n      <td>32.5</td>\n      <td>5.0</td>\n      <td>NaN</td>\n    </tr>\n    <tr>\n      <th>2017-01-10</th>\n      <td>34.0</td>\n      <td>8.0</td>\n      <td>Cloudy</td>\n    </tr>\n    <tr>\n      <th>2017-01-11</th>\n      <td>40.0</td>\n      <td>12.0</td>\n      <td>Sunny</td>\n    </tr>\n  </tbody>\n</table>\n</div>"
     },
     "execution_count": 19,
     "metadata": {},
     "output_type": "execute_result"
    }
   ],
   "source": [
    "new_df = df.interpolate()  # missing values will be found by using interpolation\n",
    "new_df"
   ],
   "metadata": {
    "collapsed": false,
    "pycharm": {
     "name": "#%%\n"
    }
   }
  },
  {
   "cell_type": "code",
   "execution_count": 20,
   "outputs": [],
   "source": [
    "new_df_1 = new_df.fillna({'event':\"No event\"})"
   ],
   "metadata": {
    "collapsed": false,
    "pycharm": {
     "name": "#%%\n"
    }
   }
  },
  {
   "cell_type": "code",
   "execution_count": 16,
   "outputs": [
    {
     "data": {
      "text/plain": "            temperature  windspeed     event\nday                                         \n2017-01-01         32.0        6.0      Rain\n2017-01-04         30.0        7.0     Sunny\n2017-01-05         28.0        7.0      Snow\n2017-01-06         30.0        7.0  No event\n2017-01-07         32.0        4.5      Rain\n2017-01-08         31.0        2.0     Sunny\n2017-01-09         32.5        5.0  No event\n2017-01-10         34.0        8.0    Cloudy\n2017-01-11         40.0       12.0     Sunny",
      "text/html": "<div>\n<style scoped>\n    .dataframe tbody tr th:only-of-type {\n        vertical-align: middle;\n    }\n\n    .dataframe tbody tr th {\n        vertical-align: top;\n    }\n\n    .dataframe thead th {\n        text-align: right;\n    }\n</style>\n<table border=\"1\" class=\"dataframe\">\n  <thead>\n    <tr style=\"text-align: right;\">\n      <th></th>\n      <th>temperature</th>\n      <th>windspeed</th>\n      <th>event</th>\n    </tr>\n    <tr>\n      <th>day</th>\n      <th></th>\n      <th></th>\n      <th></th>\n    </tr>\n  </thead>\n  <tbody>\n    <tr>\n      <th>2017-01-01</th>\n      <td>32.0</td>\n      <td>6.0</td>\n      <td>Rain</td>\n    </tr>\n    <tr>\n      <th>2017-01-04</th>\n      <td>30.0</td>\n      <td>7.0</td>\n      <td>Sunny</td>\n    </tr>\n    <tr>\n      <th>2017-01-05</th>\n      <td>28.0</td>\n      <td>7.0</td>\n      <td>Snow</td>\n    </tr>\n    <tr>\n      <th>2017-01-06</th>\n      <td>30.0</td>\n      <td>7.0</td>\n      <td>No event</td>\n    </tr>\n    <tr>\n      <th>2017-01-07</th>\n      <td>32.0</td>\n      <td>4.5</td>\n      <td>Rain</td>\n    </tr>\n    <tr>\n      <th>2017-01-08</th>\n      <td>31.0</td>\n      <td>2.0</td>\n      <td>Sunny</td>\n    </tr>\n    <tr>\n      <th>2017-01-09</th>\n      <td>32.5</td>\n      <td>5.0</td>\n      <td>No event</td>\n    </tr>\n    <tr>\n      <th>2017-01-10</th>\n      <td>34.0</td>\n      <td>8.0</td>\n      <td>Cloudy</td>\n    </tr>\n    <tr>\n      <th>2017-01-11</th>\n      <td>40.0</td>\n      <td>12.0</td>\n      <td>Sunny</td>\n    </tr>\n  </tbody>\n</table>\n</div>"
     },
     "execution_count": 16,
     "metadata": {},
     "output_type": "execute_result"
    }
   ],
   "source": [
    "new_df_1"
   ],
   "metadata": {
    "collapsed": false,
    "pycharm": {
     "name": "#%%\n"
    }
   }
  },
  {
   "cell_type": "markdown",
   "source": [
    "the value 30 in the 2nd column it doesn't make any sense bcz time gap was 3 days , so this inter polation should be considering the time that why we are going to add an argument called method='time''"
   ],
   "metadata": {
    "collapsed": false,
    "pycharm": {
     "name": "#%% md\n"
    }
   }
  },
  {
   "cell_type": "code",
   "execution_count": 22,
   "outputs": [
    {
     "data": {
      "text/plain": "            temperature  windspeed   event\nday                                       \n2017-01-01         32.0        6.0    Rain\n2017-01-04         29.0        7.0   Sunny\n2017-01-05         28.0        7.0    Snow\n2017-01-06         30.0        7.0     NaN\n2017-01-07         32.0        4.5    Rain\n2017-01-08         31.0        2.0   Sunny\n2017-01-09         32.5        5.0     NaN\n2017-01-10         34.0        8.0  Cloudy\n2017-01-11         40.0       12.0   Sunny",
      "text/html": "<div>\n<style scoped>\n    .dataframe tbody tr th:only-of-type {\n        vertical-align: middle;\n    }\n\n    .dataframe tbody tr th {\n        vertical-align: top;\n    }\n\n    .dataframe thead th {\n        text-align: right;\n    }\n</style>\n<table border=\"1\" class=\"dataframe\">\n  <thead>\n    <tr style=\"text-align: right;\">\n      <th></th>\n      <th>temperature</th>\n      <th>windspeed</th>\n      <th>event</th>\n    </tr>\n    <tr>\n      <th>day</th>\n      <th></th>\n      <th></th>\n      <th></th>\n    </tr>\n  </thead>\n  <tbody>\n    <tr>\n      <th>2017-01-01</th>\n      <td>32.0</td>\n      <td>6.0</td>\n      <td>Rain</td>\n    </tr>\n    <tr>\n      <th>2017-01-04</th>\n      <td>29.0</td>\n      <td>7.0</td>\n      <td>Sunny</td>\n    </tr>\n    <tr>\n      <th>2017-01-05</th>\n      <td>28.0</td>\n      <td>7.0</td>\n      <td>Snow</td>\n    </tr>\n    <tr>\n      <th>2017-01-06</th>\n      <td>30.0</td>\n      <td>7.0</td>\n      <td>NaN</td>\n    </tr>\n    <tr>\n      <th>2017-01-07</th>\n      <td>32.0</td>\n      <td>4.5</td>\n      <td>Rain</td>\n    </tr>\n    <tr>\n      <th>2017-01-08</th>\n      <td>31.0</td>\n      <td>2.0</td>\n      <td>Sunny</td>\n    </tr>\n    <tr>\n      <th>2017-01-09</th>\n      <td>32.5</td>\n      <td>5.0</td>\n      <td>NaN</td>\n    </tr>\n    <tr>\n      <th>2017-01-10</th>\n      <td>34.0</td>\n      <td>8.0</td>\n      <td>Cloudy</td>\n    </tr>\n    <tr>\n      <th>2017-01-11</th>\n      <td>40.0</td>\n      <td>12.0</td>\n      <td>Sunny</td>\n    </tr>\n  </tbody>\n</table>\n</div>"
     },
     "execution_count": 22,
     "metadata": {},
     "output_type": "execute_result"
    }
   ],
   "source": [
    "new_df = df.interpolate(method='time')  # missing values will be found by using inter polation\n",
    "new_df"
   ],
   "metadata": {
    "collapsed": false,
    "pycharm": {
     "name": "#%%\n"
    }
   }
  },
  {
   "cell_type": "markdown",
   "source": [
    "## dropna()\n",
    "It usually drops the row if it contains NaN\n",
    "\n",
    "1. To drop rows containing one or More NaN\n",
    "    df.dropna()\n",
    "2. To drop rows if rows contain all NaN Values\n",
    "    new_df= df.dropna(how=\"all\")\n",
    "3. If we want to control the number of NaN needs for droping a row\n",
    "    new_df= df.dropna(thresh=1)\n",
    "    new_df= df.dropna(thresh=2)\n",
    "    new_df= df.dropna(thresh=3)\n"
   ],
   "metadata": {
    "collapsed": false,
    "pycharm": {
     "name": "#%% md\n"
    }
   }
  },
  {
   "cell_type": "code",
   "execution_count": 23,
   "outputs": [
    {
     "data": {
      "text/plain": "            temperature  windspeed   event\nday                                       \n2017-01-01         32.0        6.0    Rain\n2017-01-08         31.0        2.0   Sunny\n2017-01-10         34.0        8.0  Cloudy\n2017-01-11         40.0       12.0   Sunny",
      "text/html": "<div>\n<style scoped>\n    .dataframe tbody tr th:only-of-type {\n        vertical-align: middle;\n    }\n\n    .dataframe tbody tr th {\n        vertical-align: top;\n    }\n\n    .dataframe thead th {\n        text-align: right;\n    }\n</style>\n<table border=\"1\" class=\"dataframe\">\n  <thead>\n    <tr style=\"text-align: right;\">\n      <th></th>\n      <th>temperature</th>\n      <th>windspeed</th>\n      <th>event</th>\n    </tr>\n    <tr>\n      <th>day</th>\n      <th></th>\n      <th></th>\n      <th></th>\n    </tr>\n  </thead>\n  <tbody>\n    <tr>\n      <th>2017-01-01</th>\n      <td>32.0</td>\n      <td>6.0</td>\n      <td>Rain</td>\n    </tr>\n    <tr>\n      <th>2017-01-08</th>\n      <td>31.0</td>\n      <td>2.0</td>\n      <td>Sunny</td>\n    </tr>\n    <tr>\n      <th>2017-01-10</th>\n      <td>34.0</td>\n      <td>8.0</td>\n      <td>Cloudy</td>\n    </tr>\n    <tr>\n      <th>2017-01-11</th>\n      <td>40.0</td>\n      <td>12.0</td>\n      <td>Sunny</td>\n    </tr>\n  </tbody>\n</table>\n</div>"
     },
     "execution_count": 23,
     "metadata": {},
     "output_type": "execute_result"
    }
   ],
   "source": [
    "new_df= df.dropna()\n",
    "new_df"
   ],
   "metadata": {
    "collapsed": false,
    "pycharm": {
     "name": "#%%\n"
    }
   }
  },
  {
   "cell_type": "code",
   "execution_count": 25,
   "outputs": [
    {
     "data": {
      "text/plain": "            temperature  windspeed   event\nday                                       \n2017-01-01         32.0        6.0    Rain\n2017-01-04          NaN        7.0   Sunny\n2017-01-05         28.0        NaN    Snow\n2017-01-06          NaN        7.0     NaN\n2017-01-07         32.0        NaN    Rain\n2017-01-08         31.0        2.0   Sunny\n2017-01-10         34.0        8.0  Cloudy\n2017-01-11         40.0       12.0   Sunny",
      "text/html": "<div>\n<style scoped>\n    .dataframe tbody tr th:only-of-type {\n        vertical-align: middle;\n    }\n\n    .dataframe tbody tr th {\n        vertical-align: top;\n    }\n\n    .dataframe thead th {\n        text-align: right;\n    }\n</style>\n<table border=\"1\" class=\"dataframe\">\n  <thead>\n    <tr style=\"text-align: right;\">\n      <th></th>\n      <th>temperature</th>\n      <th>windspeed</th>\n      <th>event</th>\n    </tr>\n    <tr>\n      <th>day</th>\n      <th></th>\n      <th></th>\n      <th></th>\n    </tr>\n  </thead>\n  <tbody>\n    <tr>\n      <th>2017-01-01</th>\n      <td>32.0</td>\n      <td>6.0</td>\n      <td>Rain</td>\n    </tr>\n    <tr>\n      <th>2017-01-04</th>\n      <td>NaN</td>\n      <td>7.0</td>\n      <td>Sunny</td>\n    </tr>\n    <tr>\n      <th>2017-01-05</th>\n      <td>28.0</td>\n      <td>NaN</td>\n      <td>Snow</td>\n    </tr>\n    <tr>\n      <th>2017-01-06</th>\n      <td>NaN</td>\n      <td>7.0</td>\n      <td>NaN</td>\n    </tr>\n    <tr>\n      <th>2017-01-07</th>\n      <td>32.0</td>\n      <td>NaN</td>\n      <td>Rain</td>\n    </tr>\n    <tr>\n      <th>2017-01-08</th>\n      <td>31.0</td>\n      <td>2.0</td>\n      <td>Sunny</td>\n    </tr>\n    <tr>\n      <th>2017-01-10</th>\n      <td>34.0</td>\n      <td>8.0</td>\n      <td>Cloudy</td>\n    </tr>\n    <tr>\n      <th>2017-01-11</th>\n      <td>40.0</td>\n      <td>12.0</td>\n      <td>Sunny</td>\n    </tr>\n  </tbody>\n</table>\n</div>"
     },
     "execution_count": 25,
     "metadata": {},
     "output_type": "execute_result"
    }
   ],
   "source": [
    "# from the upper code we can easily understand, this dropn() deleted or dropped every rows containing a NaN\n",
    "#\n",
    "# We Want to drop the row if all of the datas are containing NaN value\n",
    "new_df= df.dropna(how=\"all\")\n",
    "new_df"
   ],
   "metadata": {
    "collapsed": false,
    "pycharm": {
     "name": "#%%\n"
    }
   }
  },
  {
   "cell_type": "code",
   "execution_count": 27,
   "outputs": [
    {
     "data": {
      "text/plain": "            temperature  windspeed   event\nday                                       \n2017-01-01         32.0        6.0    Rain\n2017-01-04          NaN        7.0   Sunny\n2017-01-05         28.0        NaN    Snow\n2017-01-06          NaN        7.0     NaN\n2017-01-07         32.0        NaN    Rain\n2017-01-08         31.0        2.0   Sunny\n2017-01-10         34.0        8.0  Cloudy\n2017-01-11         40.0       12.0   Sunny",
      "text/html": "<div>\n<style scoped>\n    .dataframe tbody tr th:only-of-type {\n        vertical-align: middle;\n    }\n\n    .dataframe tbody tr th {\n        vertical-align: top;\n    }\n\n    .dataframe thead th {\n        text-align: right;\n    }\n</style>\n<table border=\"1\" class=\"dataframe\">\n  <thead>\n    <tr style=\"text-align: right;\">\n      <th></th>\n      <th>temperature</th>\n      <th>windspeed</th>\n      <th>event</th>\n    </tr>\n    <tr>\n      <th>day</th>\n      <th></th>\n      <th></th>\n      <th></th>\n    </tr>\n  </thead>\n  <tbody>\n    <tr>\n      <th>2017-01-01</th>\n      <td>32.0</td>\n      <td>6.0</td>\n      <td>Rain</td>\n    </tr>\n    <tr>\n      <th>2017-01-04</th>\n      <td>NaN</td>\n      <td>7.0</td>\n      <td>Sunny</td>\n    </tr>\n    <tr>\n      <th>2017-01-05</th>\n      <td>28.0</td>\n      <td>NaN</td>\n      <td>Snow</td>\n    </tr>\n    <tr>\n      <th>2017-01-06</th>\n      <td>NaN</td>\n      <td>7.0</td>\n      <td>NaN</td>\n    </tr>\n    <tr>\n      <th>2017-01-07</th>\n      <td>32.0</td>\n      <td>NaN</td>\n      <td>Rain</td>\n    </tr>\n    <tr>\n      <th>2017-01-08</th>\n      <td>31.0</td>\n      <td>2.0</td>\n      <td>Sunny</td>\n    </tr>\n    <tr>\n      <th>2017-01-10</th>\n      <td>34.0</td>\n      <td>8.0</td>\n      <td>Cloudy</td>\n    </tr>\n    <tr>\n      <th>2017-01-11</th>\n      <td>40.0</td>\n      <td>12.0</td>\n      <td>Sunny</td>\n    </tr>\n  </tbody>\n</table>\n</div>"
     },
     "execution_count": 27,
     "metadata": {},
     "output_type": "execute_result"
    }
   ],
   "source": [
    "new_df= df.dropna(thresh=1)\n",
    "\n",
    "new_df"
   ],
   "metadata": {
    "collapsed": false,
    "pycharm": {
     "name": "#%%\n"
    }
   }
  },
  {
   "cell_type": "code",
   "execution_count": 28,
   "outputs": [
    {
     "data": {
      "text/plain": "            temperature  windspeed   event\nday                                       \n2017-01-01         32.0        6.0    Rain\n2017-01-04          NaN        7.0   Sunny\n2017-01-05         28.0        NaN    Snow\n2017-01-07         32.0        NaN    Rain\n2017-01-08         31.0        2.0   Sunny\n2017-01-10         34.0        8.0  Cloudy\n2017-01-11         40.0       12.0   Sunny",
      "text/html": "<div>\n<style scoped>\n    .dataframe tbody tr th:only-of-type {\n        vertical-align: middle;\n    }\n\n    .dataframe tbody tr th {\n        vertical-align: top;\n    }\n\n    .dataframe thead th {\n        text-align: right;\n    }\n</style>\n<table border=\"1\" class=\"dataframe\">\n  <thead>\n    <tr style=\"text-align: right;\">\n      <th></th>\n      <th>temperature</th>\n      <th>windspeed</th>\n      <th>event</th>\n    </tr>\n    <tr>\n      <th>day</th>\n      <th></th>\n      <th></th>\n      <th></th>\n    </tr>\n  </thead>\n  <tbody>\n    <tr>\n      <th>2017-01-01</th>\n      <td>32.0</td>\n      <td>6.0</td>\n      <td>Rain</td>\n    </tr>\n    <tr>\n      <th>2017-01-04</th>\n      <td>NaN</td>\n      <td>7.0</td>\n      <td>Sunny</td>\n    </tr>\n    <tr>\n      <th>2017-01-05</th>\n      <td>28.0</td>\n      <td>NaN</td>\n      <td>Snow</td>\n    </tr>\n    <tr>\n      <th>2017-01-07</th>\n      <td>32.0</td>\n      <td>NaN</td>\n      <td>Rain</td>\n    </tr>\n    <tr>\n      <th>2017-01-08</th>\n      <td>31.0</td>\n      <td>2.0</td>\n      <td>Sunny</td>\n    </tr>\n    <tr>\n      <th>2017-01-10</th>\n      <td>34.0</td>\n      <td>8.0</td>\n      <td>Cloudy</td>\n    </tr>\n    <tr>\n      <th>2017-01-11</th>\n      <td>40.0</td>\n      <td>12.0</td>\n      <td>Sunny</td>\n    </tr>\n  </tbody>\n</table>\n</div>"
     },
     "execution_count": 28,
     "metadata": {},
     "output_type": "execute_result"
    }
   ],
   "source": [
    "# If we want to control the number of NaN needs for droping a row\n",
    "new_df= df.dropna(thresh=2)\n",
    "\n",
    "new_df"
   ],
   "metadata": {
    "collapsed": false,
    "pycharm": {
     "name": "#%%\n"
    }
   }
  },
  {
   "cell_type": "code",
   "execution_count": 30,
   "outputs": [],
   "source": [
    "# If I want to add the missing dates also the datas\n",
    "dt = pd.date_range(\"01-01-2017\",\"01-11-2017\")\n",
    "idx = pd.DatetimeIndex(dt)\n",
    "new_df = df.reindex(idx)"
   ],
   "metadata": {
    "collapsed": false,
    "pycharm": {
     "name": "#%%\n"
    }
   }
  },
  {
   "cell_type": "code",
   "execution_count": 31,
   "outputs": [
    {
     "data": {
      "text/plain": "            temperature  windspeed   event\n2017-01-01         32.0        6.0    Rain\n2017-01-02          NaN        NaN     NaN\n2017-01-03          NaN        NaN     NaN\n2017-01-04          NaN        7.0   Sunny\n2017-01-05         28.0        NaN    Snow\n2017-01-06          NaN        7.0     NaN\n2017-01-07         32.0        NaN    Rain\n2017-01-08         31.0        2.0   Sunny\n2017-01-09          NaN        NaN     NaN\n2017-01-10         34.0        8.0  Cloudy\n2017-01-11         40.0       12.0   Sunny",
      "text/html": "<div>\n<style scoped>\n    .dataframe tbody tr th:only-of-type {\n        vertical-align: middle;\n    }\n\n    .dataframe tbody tr th {\n        vertical-align: top;\n    }\n\n    .dataframe thead th {\n        text-align: right;\n    }\n</style>\n<table border=\"1\" class=\"dataframe\">\n  <thead>\n    <tr style=\"text-align: right;\">\n      <th></th>\n      <th>temperature</th>\n      <th>windspeed</th>\n      <th>event</th>\n    </tr>\n  </thead>\n  <tbody>\n    <tr>\n      <th>2017-01-01</th>\n      <td>32.0</td>\n      <td>6.0</td>\n      <td>Rain</td>\n    </tr>\n    <tr>\n      <th>2017-01-02</th>\n      <td>NaN</td>\n      <td>NaN</td>\n      <td>NaN</td>\n    </tr>\n    <tr>\n      <th>2017-01-03</th>\n      <td>NaN</td>\n      <td>NaN</td>\n      <td>NaN</td>\n    </tr>\n    <tr>\n      <th>2017-01-04</th>\n      <td>NaN</td>\n      <td>7.0</td>\n      <td>Sunny</td>\n    </tr>\n    <tr>\n      <th>2017-01-05</th>\n      <td>28.0</td>\n      <td>NaN</td>\n      <td>Snow</td>\n    </tr>\n    <tr>\n      <th>2017-01-06</th>\n      <td>NaN</td>\n      <td>7.0</td>\n      <td>NaN</td>\n    </tr>\n    <tr>\n      <th>2017-01-07</th>\n      <td>32.0</td>\n      <td>NaN</td>\n      <td>Rain</td>\n    </tr>\n    <tr>\n      <th>2017-01-08</th>\n      <td>31.0</td>\n      <td>2.0</td>\n      <td>Sunny</td>\n    </tr>\n    <tr>\n      <th>2017-01-09</th>\n      <td>NaN</td>\n      <td>NaN</td>\n      <td>NaN</td>\n    </tr>\n    <tr>\n      <th>2017-01-10</th>\n      <td>34.0</td>\n      <td>8.0</td>\n      <td>Cloudy</td>\n    </tr>\n    <tr>\n      <th>2017-01-11</th>\n      <td>40.0</td>\n      <td>12.0</td>\n      <td>Sunny</td>\n    </tr>\n  </tbody>\n</table>\n</div>"
     },
     "execution_count": 31,
     "metadata": {},
     "output_type": "execute_result"
    }
   ],
   "source": [
    "new_df"
   ],
   "metadata": {
    "collapsed": false,
    "pycharm": {
     "name": "#%%\n"
    }
   }
  },
  {
   "cell_type": "code",
   "execution_count": 37,
   "outputs": [],
   "source": [
    "new_df= df.interpolate(\"time\")\n",
    "\n"
   ],
   "metadata": {
    "collapsed": false,
    "pycharm": {
     "name": "#%%\n"
    }
   }
  },
  {
   "cell_type": "code",
   "execution_count": 40,
   "outputs": [],
   "source": [
    "r =new_df.fillna({'event': \"No EVENT\"})"
   ],
   "metadata": {
    "collapsed": false,
    "pycharm": {
     "name": "#%%\n"
    }
   }
  },
  {
   "cell_type": "code",
   "execution_count": 41,
   "outputs": [
    {
     "data": {
      "text/plain": "            temperature  windspeed     event\nday                                         \n2017-01-01         32.0        6.0      Rain\n2017-01-04         29.0        7.0     Sunny\n2017-01-05         28.0        7.0      Snow\n2017-01-06         30.0        7.0  No EVENT\n2017-01-07         32.0        4.5      Rain\n2017-01-08         31.0        2.0     Sunny\n2017-01-09         32.5        5.0  No EVENT\n2017-01-10         34.0        8.0    Cloudy\n2017-01-11         40.0       12.0     Sunny",
      "text/html": "<div>\n<style scoped>\n    .dataframe tbody tr th:only-of-type {\n        vertical-align: middle;\n    }\n\n    .dataframe tbody tr th {\n        vertical-align: top;\n    }\n\n    .dataframe thead th {\n        text-align: right;\n    }\n</style>\n<table border=\"1\" class=\"dataframe\">\n  <thead>\n    <tr style=\"text-align: right;\">\n      <th></th>\n      <th>temperature</th>\n      <th>windspeed</th>\n      <th>event</th>\n    </tr>\n    <tr>\n      <th>day</th>\n      <th></th>\n      <th></th>\n      <th></th>\n    </tr>\n  </thead>\n  <tbody>\n    <tr>\n      <th>2017-01-01</th>\n      <td>32.0</td>\n      <td>6.0</td>\n      <td>Rain</td>\n    </tr>\n    <tr>\n      <th>2017-01-04</th>\n      <td>29.0</td>\n      <td>7.0</td>\n      <td>Sunny</td>\n    </tr>\n    <tr>\n      <th>2017-01-05</th>\n      <td>28.0</td>\n      <td>7.0</td>\n      <td>Snow</td>\n    </tr>\n    <tr>\n      <th>2017-01-06</th>\n      <td>30.0</td>\n      <td>7.0</td>\n      <td>No EVENT</td>\n    </tr>\n    <tr>\n      <th>2017-01-07</th>\n      <td>32.0</td>\n      <td>4.5</td>\n      <td>Rain</td>\n    </tr>\n    <tr>\n      <th>2017-01-08</th>\n      <td>31.0</td>\n      <td>2.0</td>\n      <td>Sunny</td>\n    </tr>\n    <tr>\n      <th>2017-01-09</th>\n      <td>32.5</td>\n      <td>5.0</td>\n      <td>No EVENT</td>\n    </tr>\n    <tr>\n      <th>2017-01-10</th>\n      <td>34.0</td>\n      <td>8.0</td>\n      <td>Cloudy</td>\n    </tr>\n    <tr>\n      <th>2017-01-11</th>\n      <td>40.0</td>\n      <td>12.0</td>\n      <td>Sunny</td>\n    </tr>\n  </tbody>\n</table>\n</div>"
     },
     "execution_count": 41,
     "metadata": {},
     "output_type": "execute_result"
    }
   ],
   "source": [
    "r"
   ],
   "metadata": {
    "collapsed": false,
    "pycharm": {
     "name": "#%%\n"
    }
   }
  },
  {
   "cell_type": "code",
   "execution_count": null,
   "outputs": [],
   "source": [],
   "metadata": {
    "collapsed": false,
    "pycharm": {
     "name": "#%%\n"
    }
   }
  }
 ],
 "metadata": {
  "kernelspec": {
   "display_name": "Python 3",
   "language": "python",
   "name": "python3"
  },
  "language_info": {
   "codemirror_mode": {
    "name": "ipython",
    "version": 2
   },
   "file_extension": ".py",
   "mimetype": "text/x-python",
   "name": "python",
   "nbconvert_exporter": "python",
   "pygments_lexer": "ipython2",
   "version": "2.7.6"
  }
 },
 "nbformat": 4,
 "nbformat_minor": 0
}