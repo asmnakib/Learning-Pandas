{
 "cells": [
  {
   "cell_type": "code",
   "execution_count": 14,
   "outputs": [],
   "source": [
    "import pandas as pd"
   ],
   "metadata": {
    "collapsed": false,
    "pycharm": {
     "name": "#%%\n"
    }
   }
  },
  {
   "cell_type": "code",
   "execution_count": 19,
   "outputs": [],
   "source": [
    "df = pd.read_excel('marksheet.xlsx',index_col=False)"
   ],
   "metadata": {
    "collapsed": false,
    "pycharm": {
     "name": "#%%\n"
    }
   }
  },
  {
   "cell_type": "code",
   "execution_count": 20,
   "outputs": [
    {
     "data": {
      "text/plain": "    Serial     Std ID                           Name  mark\n0        1  201836017                  Md. Atiq Khan   3.0\n1        2  201836032     Md. Shafayat Hossain Nahid   NaN\n2        3  201936001             Zahidul Islam Sani   5.0\n3        4  201936002             Syeda Fahima Akter   NaN\n4        5  201936003           Maisha Rahman Chaity   5.0\n5        6  201936004           Miskat Farjana Haque   4.0\n6        7  201936005                 Muntasir Ahmed   4.0\n7        8  201936006                      Md Sharia   3.0\n8        9  201936007                  Ayesha Maliha   3.5\n9       10  201936008       Khondaker Farhana Shamim   4.0\n10      11  201936009        Md. Nazmul Hossain Khan   5.0\n11      12  201936010         Yousuf Abdullah Shafin   4.0\n12      13  201936012                M M Irfan Ullah   5.0\n13      14  201936013            Rezwan Kabir Shihab   NaN\n14      15  201936014           Syeda Tanjum Hossain   NaN\n15      16  201936015                   Eshfar Sagor   3.0\n16      17  201936016           M. M. Aflatun Kawsar   6.0\n17      18  201936017                   Mehedi Hasan   5.0\n18      19  201936018                     Meghla Roy   4.0\n19      20  201936019                    Tasfia Saba   5.0\n20      21  201936020      Abdullah Md. Atik Hossein   6.0\n21      22  201936021             Shohaib Islam Khan   NaN\n22      23  201936022      Abu Saleh Md. Nakib Uddin  10.0\n23      24  201936023                  Sanjida Islam   3.0\n24      25  201936024               Maruf Ahmed Khan   NaN\n25      26  201936025               Md.Miraz Hossain   7.0\n26      27  201936026  Muhamed Minhazur Rahman Zehad   2.0\n27      28  201936027          Md.Wasiul Gani Farabi   3.5\n28      29  201936029             Fahima Akter Azrin   6.0\n29      30  201936030             Md. Shahriar Habib   5.0\n30      31  201936031              Faria Aktar Tonny   4.0\n31      32  201936032               Md. Shamim Hasan   6.0\n32      33  201936033              Md. Omar Al Javed   6.0\n33      34  201936034                   Asmaul Husna   3.0\n34      35  201936035         Md. Salahuddin Ashrafi   4.0\n35      36  201936036            Mahedi Islam Chayan   5.0\n36      37  201936037              Md. Mehedy Hassan   5.0\n37      38  201936038                 Zubaer Mostafa   NaN\n38      39  201936039             Md. Tasmim Al Zaki   4.0\n39      40  201936040            Tawfiq Hasan Hafizi   6.0\n40      41  201936041          Zarif Mohammad Tazwar   NaN\n41      42  201936042                Zayed Ur Rahman   4.0\n42      43  201936043      Md. Ashfakul Karim Kausik   4.0\n43      44  201936044                   Fawzia Islam   3.0\n44      45  201936045                   Sabiha Afrin   NaN\n45      46  201936046    Khondoker Safin Kaosar Saad   4.0\n46      47  201936047         Ahamed Al Hassan Sunny   3.0\n47      48  201936048            Md Faisal Moheuddin   4.0\n48      49  201936049          S M Sadman Reza Fagun   NaN\n49      50  201936050          Md.Tanvir Hasan Sarji   6.0",
      "text/html": "<div>\n<style scoped>\n    .dataframe tbody tr th:only-of-type {\n        vertical-align: middle;\n    }\n\n    .dataframe tbody tr th {\n        vertical-align: top;\n    }\n\n    .dataframe thead th {\n        text-align: right;\n    }\n</style>\n<table border=\"1\" class=\"dataframe\">\n  <thead>\n    <tr style=\"text-align: right;\">\n      <th></th>\n      <th>Serial</th>\n      <th>Std ID</th>\n      <th>Name</th>\n      <th>mark</th>\n    </tr>\n  </thead>\n  <tbody>\n    <tr>\n      <th>0</th>\n      <td>1</td>\n      <td>201836017</td>\n      <td>Md. Atiq Khan</td>\n      <td>3.0</td>\n    </tr>\n    <tr>\n      <th>1</th>\n      <td>2</td>\n      <td>201836032</td>\n      <td>Md. Shafayat Hossain Nahid</td>\n      <td>NaN</td>\n    </tr>\n    <tr>\n      <th>2</th>\n      <td>3</td>\n      <td>201936001</td>\n      <td>Zahidul Islam Sani</td>\n      <td>5.0</td>\n    </tr>\n    <tr>\n      <th>3</th>\n      <td>4</td>\n      <td>201936002</td>\n      <td>Syeda Fahima Akter</td>\n      <td>NaN</td>\n    </tr>\n    <tr>\n      <th>4</th>\n      <td>5</td>\n      <td>201936003</td>\n      <td>Maisha Rahman Chaity</td>\n      <td>5.0</td>\n    </tr>\n    <tr>\n      <th>5</th>\n      <td>6</td>\n      <td>201936004</td>\n      <td>Miskat Farjana Haque</td>\n      <td>4.0</td>\n    </tr>\n    <tr>\n      <th>6</th>\n      <td>7</td>\n      <td>201936005</td>\n      <td>Muntasir Ahmed</td>\n      <td>4.0</td>\n    </tr>\n    <tr>\n      <th>7</th>\n      <td>8</td>\n      <td>201936006</td>\n      <td>Md Sharia</td>\n      <td>3.0</td>\n    </tr>\n    <tr>\n      <th>8</th>\n      <td>9</td>\n      <td>201936007</td>\n      <td>Ayesha Maliha</td>\n      <td>3.5</td>\n    </tr>\n    <tr>\n      <th>9</th>\n      <td>10</td>\n      <td>201936008</td>\n      <td>Khondaker Farhana Shamim</td>\n      <td>4.0</td>\n    </tr>\n    <tr>\n      <th>10</th>\n      <td>11</td>\n      <td>201936009</td>\n      <td>Md. Nazmul Hossain Khan</td>\n      <td>5.0</td>\n    </tr>\n    <tr>\n      <th>11</th>\n      <td>12</td>\n      <td>201936010</td>\n      <td>Yousuf Abdullah Shafin</td>\n      <td>4.0</td>\n    </tr>\n    <tr>\n      <th>12</th>\n      <td>13</td>\n      <td>201936012</td>\n      <td>M M Irfan Ullah</td>\n      <td>5.0</td>\n    </tr>\n    <tr>\n      <th>13</th>\n      <td>14</td>\n      <td>201936013</td>\n      <td>Rezwan Kabir Shihab</td>\n      <td>NaN</td>\n    </tr>\n    <tr>\n      <th>14</th>\n      <td>15</td>\n      <td>201936014</td>\n      <td>Syeda Tanjum Hossain</td>\n      <td>NaN</td>\n    </tr>\n    <tr>\n      <th>15</th>\n      <td>16</td>\n      <td>201936015</td>\n      <td>Eshfar Sagor</td>\n      <td>3.0</td>\n    </tr>\n    <tr>\n      <th>16</th>\n      <td>17</td>\n      <td>201936016</td>\n      <td>M. M. Aflatun Kawsar</td>\n      <td>6.0</td>\n    </tr>\n    <tr>\n      <th>17</th>\n      <td>18</td>\n      <td>201936017</td>\n      <td>Mehedi Hasan</td>\n      <td>5.0</td>\n    </tr>\n    <tr>\n      <th>18</th>\n      <td>19</td>\n      <td>201936018</td>\n      <td>Meghla Roy</td>\n      <td>4.0</td>\n    </tr>\n    <tr>\n      <th>19</th>\n      <td>20</td>\n      <td>201936019</td>\n      <td>Tasfia Saba</td>\n      <td>5.0</td>\n    </tr>\n    <tr>\n      <th>20</th>\n      <td>21</td>\n      <td>201936020</td>\n      <td>Abdullah Md. Atik Hossein</td>\n      <td>6.0</td>\n    </tr>\n    <tr>\n      <th>21</th>\n      <td>22</td>\n      <td>201936021</td>\n      <td>Shohaib Islam Khan</td>\n      <td>NaN</td>\n    </tr>\n    <tr>\n      <th>22</th>\n      <td>23</td>\n      <td>201936022</td>\n      <td>Abu Saleh Md. Nakib Uddin</td>\n      <td>10.0</td>\n    </tr>\n    <tr>\n      <th>23</th>\n      <td>24</td>\n      <td>201936023</td>\n      <td>Sanjida Islam</td>\n      <td>3.0</td>\n    </tr>\n    <tr>\n      <th>24</th>\n      <td>25</td>\n      <td>201936024</td>\n      <td>Maruf Ahmed Khan</td>\n      <td>NaN</td>\n    </tr>\n    <tr>\n      <th>25</th>\n      <td>26</td>\n      <td>201936025</td>\n      <td>Md.Miraz Hossain</td>\n      <td>7.0</td>\n    </tr>\n    <tr>\n      <th>26</th>\n      <td>27</td>\n      <td>201936026</td>\n      <td>Muhamed Minhazur Rahman Zehad</td>\n      <td>2.0</td>\n    </tr>\n    <tr>\n      <th>27</th>\n      <td>28</td>\n      <td>201936027</td>\n      <td>Md.Wasiul Gani Farabi</td>\n      <td>3.5</td>\n    </tr>\n    <tr>\n      <th>28</th>\n      <td>29</td>\n      <td>201936029</td>\n      <td>Fahima Akter Azrin</td>\n      <td>6.0</td>\n    </tr>\n    <tr>\n      <th>29</th>\n      <td>30</td>\n      <td>201936030</td>\n      <td>Md. Shahriar Habib</td>\n      <td>5.0</td>\n    </tr>\n    <tr>\n      <th>30</th>\n      <td>31</td>\n      <td>201936031</td>\n      <td>Faria Aktar Tonny</td>\n      <td>4.0</td>\n    </tr>\n    <tr>\n      <th>31</th>\n      <td>32</td>\n      <td>201936032</td>\n      <td>Md. Shamim Hasan</td>\n      <td>6.0</td>\n    </tr>\n    <tr>\n      <th>32</th>\n      <td>33</td>\n      <td>201936033</td>\n      <td>Md. Omar Al Javed</td>\n      <td>6.0</td>\n    </tr>\n    <tr>\n      <th>33</th>\n      <td>34</td>\n      <td>201936034</td>\n      <td>Asmaul Husna</td>\n      <td>3.0</td>\n    </tr>\n    <tr>\n      <th>34</th>\n      <td>35</td>\n      <td>201936035</td>\n      <td>Md. Salahuddin Ashrafi</td>\n      <td>4.0</td>\n    </tr>\n    <tr>\n      <th>35</th>\n      <td>36</td>\n      <td>201936036</td>\n      <td>Mahedi Islam Chayan</td>\n      <td>5.0</td>\n    </tr>\n    <tr>\n      <th>36</th>\n      <td>37</td>\n      <td>201936037</td>\n      <td>Md. Mehedy Hassan</td>\n      <td>5.0</td>\n    </tr>\n    <tr>\n      <th>37</th>\n      <td>38</td>\n      <td>201936038</td>\n      <td>Zubaer Mostafa</td>\n      <td>NaN</td>\n    </tr>\n    <tr>\n      <th>38</th>\n      <td>39</td>\n      <td>201936039</td>\n      <td>Md. Tasmim Al Zaki</td>\n      <td>4.0</td>\n    </tr>\n    <tr>\n      <th>39</th>\n      <td>40</td>\n      <td>201936040</td>\n      <td>Tawfiq Hasan Hafizi</td>\n      <td>6.0</td>\n    </tr>\n    <tr>\n      <th>40</th>\n      <td>41</td>\n      <td>201936041</td>\n      <td>Zarif Mohammad Tazwar</td>\n      <td>NaN</td>\n    </tr>\n    <tr>\n      <th>41</th>\n      <td>42</td>\n      <td>201936042</td>\n      <td>Zayed Ur Rahman</td>\n      <td>4.0</td>\n    </tr>\n    <tr>\n      <th>42</th>\n      <td>43</td>\n      <td>201936043</td>\n      <td>Md. Ashfakul Karim Kausik</td>\n      <td>4.0</td>\n    </tr>\n    <tr>\n      <th>43</th>\n      <td>44</td>\n      <td>201936044</td>\n      <td>Fawzia Islam</td>\n      <td>3.0</td>\n    </tr>\n    <tr>\n      <th>44</th>\n      <td>45</td>\n      <td>201936045</td>\n      <td>Sabiha Afrin</td>\n      <td>NaN</td>\n    </tr>\n    <tr>\n      <th>45</th>\n      <td>46</td>\n      <td>201936046</td>\n      <td>Khondoker Safin Kaosar Saad</td>\n      <td>4.0</td>\n    </tr>\n    <tr>\n      <th>46</th>\n      <td>47</td>\n      <td>201936047</td>\n      <td>Ahamed Al Hassan Sunny</td>\n      <td>3.0</td>\n    </tr>\n    <tr>\n      <th>47</th>\n      <td>48</td>\n      <td>201936048</td>\n      <td>Md Faisal Moheuddin</td>\n      <td>4.0</td>\n    </tr>\n    <tr>\n      <th>48</th>\n      <td>49</td>\n      <td>201936049</td>\n      <td>S M Sadman Reza Fagun</td>\n      <td>NaN</td>\n    </tr>\n    <tr>\n      <th>49</th>\n      <td>50</td>\n      <td>201936050</td>\n      <td>Md.Tanvir Hasan Sarji</td>\n      <td>6.0</td>\n    </tr>\n  </tbody>\n</table>\n</div>"
     },
     "execution_count": 20,
     "metadata": {},
     "output_type": "execute_result"
    }
   ],
   "source": [
    "df"
   ],
   "metadata": {
    "collapsed": false,
    "pycharm": {
     "name": "#%%\n"
    }
   }
  },
  {
   "cell_type": "code",
   "execution_count": 21,
   "outputs": [],
   "source": [
    "new_df = df.fillna(0)"
   ],
   "metadata": {
    "collapsed": false,
    "pycharm": {
     "name": "#%%\n"
    }
   }
  },
  {
   "cell_type": "code",
   "execution_count": 22,
   "outputs": [
    {
     "data": {
      "text/plain": "    Serial     Std ID                           Name  mark\n0        1  201836017                  Md. Atiq Khan   3.0\n1        2  201836032     Md. Shafayat Hossain Nahid   0.0\n2        3  201936001             Zahidul Islam Sani   5.0\n3        4  201936002             Syeda Fahima Akter   0.0\n4        5  201936003           Maisha Rahman Chaity   5.0\n5        6  201936004           Miskat Farjana Haque   4.0\n6        7  201936005                 Muntasir Ahmed   4.0\n7        8  201936006                      Md Sharia   3.0\n8        9  201936007                  Ayesha Maliha   3.5\n9       10  201936008       Khondaker Farhana Shamim   4.0\n10      11  201936009        Md. Nazmul Hossain Khan   5.0\n11      12  201936010         Yousuf Abdullah Shafin   4.0\n12      13  201936012                M M Irfan Ullah   5.0\n13      14  201936013            Rezwan Kabir Shihab   0.0\n14      15  201936014           Syeda Tanjum Hossain   0.0\n15      16  201936015                   Eshfar Sagor   3.0\n16      17  201936016           M. M. Aflatun Kawsar   6.0\n17      18  201936017                   Mehedi Hasan   5.0\n18      19  201936018                     Meghla Roy   4.0\n19      20  201936019                    Tasfia Saba   5.0\n20      21  201936020      Abdullah Md. Atik Hossein   6.0\n21      22  201936021             Shohaib Islam Khan   0.0\n22      23  201936022      Abu Saleh Md. Nakib Uddin  10.0\n23      24  201936023                  Sanjida Islam   3.0\n24      25  201936024               Maruf Ahmed Khan   0.0\n25      26  201936025               Md.Miraz Hossain   7.0\n26      27  201936026  Muhamed Minhazur Rahman Zehad   2.0\n27      28  201936027          Md.Wasiul Gani Farabi   3.5\n28      29  201936029             Fahima Akter Azrin   6.0\n29      30  201936030             Md. Shahriar Habib   5.0\n30      31  201936031              Faria Aktar Tonny   4.0\n31      32  201936032               Md. Shamim Hasan   6.0\n32      33  201936033              Md. Omar Al Javed   6.0\n33      34  201936034                   Asmaul Husna   3.0\n34      35  201936035         Md. Salahuddin Ashrafi   4.0\n35      36  201936036            Mahedi Islam Chayan   5.0\n36      37  201936037              Md. Mehedy Hassan   5.0\n37      38  201936038                 Zubaer Mostafa   0.0\n38      39  201936039             Md. Tasmim Al Zaki   4.0\n39      40  201936040            Tawfiq Hasan Hafizi   6.0\n40      41  201936041          Zarif Mohammad Tazwar   0.0\n41      42  201936042                Zayed Ur Rahman   4.0\n42      43  201936043      Md. Ashfakul Karim Kausik   4.0\n43      44  201936044                   Fawzia Islam   3.0\n44      45  201936045                   Sabiha Afrin   0.0\n45      46  201936046    Khondoker Safin Kaosar Saad   4.0\n46      47  201936047         Ahamed Al Hassan Sunny   3.0\n47      48  201936048            Md Faisal Moheuddin   4.0\n48      49  201936049          S M Sadman Reza Fagun   0.0\n49      50  201936050          Md.Tanvir Hasan Sarji   6.0",
      "text/html": "<div>\n<style scoped>\n    .dataframe tbody tr th:only-of-type {\n        vertical-align: middle;\n    }\n\n    .dataframe tbody tr th {\n        vertical-align: top;\n    }\n\n    .dataframe thead th {\n        text-align: right;\n    }\n</style>\n<table border=\"1\" class=\"dataframe\">\n  <thead>\n    <tr style=\"text-align: right;\">\n      <th></th>\n      <th>Serial</th>\n      <th>Std ID</th>\n      <th>Name</th>\n      <th>mark</th>\n    </tr>\n  </thead>\n  <tbody>\n    <tr>\n      <th>0</th>\n      <td>1</td>\n      <td>201836017</td>\n      <td>Md. Atiq Khan</td>\n      <td>3.0</td>\n    </tr>\n    <tr>\n      <th>1</th>\n      <td>2</td>\n      <td>201836032</td>\n      <td>Md. Shafayat Hossain Nahid</td>\n      <td>0.0</td>\n    </tr>\n    <tr>\n      <th>2</th>\n      <td>3</td>\n      <td>201936001</td>\n      <td>Zahidul Islam Sani</td>\n      <td>5.0</td>\n    </tr>\n    <tr>\n      <th>3</th>\n      <td>4</td>\n      <td>201936002</td>\n      <td>Syeda Fahima Akter</td>\n      <td>0.0</td>\n    </tr>\n    <tr>\n      <th>4</th>\n      <td>5</td>\n      <td>201936003</td>\n      <td>Maisha Rahman Chaity</td>\n      <td>5.0</td>\n    </tr>\n    <tr>\n      <th>5</th>\n      <td>6</td>\n      <td>201936004</td>\n      <td>Miskat Farjana Haque</td>\n      <td>4.0</td>\n    </tr>\n    <tr>\n      <th>6</th>\n      <td>7</td>\n      <td>201936005</td>\n      <td>Muntasir Ahmed</td>\n      <td>4.0</td>\n    </tr>\n    <tr>\n      <th>7</th>\n      <td>8</td>\n      <td>201936006</td>\n      <td>Md Sharia</td>\n      <td>3.0</td>\n    </tr>\n    <tr>\n      <th>8</th>\n      <td>9</td>\n      <td>201936007</td>\n      <td>Ayesha Maliha</td>\n      <td>3.5</td>\n    </tr>\n    <tr>\n      <th>9</th>\n      <td>10</td>\n      <td>201936008</td>\n      <td>Khondaker Farhana Shamim</td>\n      <td>4.0</td>\n    </tr>\n    <tr>\n      <th>10</th>\n      <td>11</td>\n      <td>201936009</td>\n      <td>Md. Nazmul Hossain Khan</td>\n      <td>5.0</td>\n    </tr>\n    <tr>\n      <th>11</th>\n      <td>12</td>\n      <td>201936010</td>\n      <td>Yousuf Abdullah Shafin</td>\n      <td>4.0</td>\n    </tr>\n    <tr>\n      <th>12</th>\n      <td>13</td>\n      <td>201936012</td>\n      <td>M M Irfan Ullah</td>\n      <td>5.0</td>\n    </tr>\n    <tr>\n      <th>13</th>\n      <td>14</td>\n      <td>201936013</td>\n      <td>Rezwan Kabir Shihab</td>\n      <td>0.0</td>\n    </tr>\n    <tr>\n      <th>14</th>\n      <td>15</td>\n      <td>201936014</td>\n      <td>Syeda Tanjum Hossain</td>\n      <td>0.0</td>\n    </tr>\n    <tr>\n      <th>15</th>\n      <td>16</td>\n      <td>201936015</td>\n      <td>Eshfar Sagor</td>\n      <td>3.0</td>\n    </tr>\n    <tr>\n      <th>16</th>\n      <td>17</td>\n      <td>201936016</td>\n      <td>M. M. Aflatun Kawsar</td>\n      <td>6.0</td>\n    </tr>\n    <tr>\n      <th>17</th>\n      <td>18</td>\n      <td>201936017</td>\n      <td>Mehedi Hasan</td>\n      <td>5.0</td>\n    </tr>\n    <tr>\n      <th>18</th>\n      <td>19</td>\n      <td>201936018</td>\n      <td>Meghla Roy</td>\n      <td>4.0</td>\n    </tr>\n    <tr>\n      <th>19</th>\n      <td>20</td>\n      <td>201936019</td>\n      <td>Tasfia Saba</td>\n      <td>5.0</td>\n    </tr>\n    <tr>\n      <th>20</th>\n      <td>21</td>\n      <td>201936020</td>\n      <td>Abdullah Md. Atik Hossein</td>\n      <td>6.0</td>\n    </tr>\n    <tr>\n      <th>21</th>\n      <td>22</td>\n      <td>201936021</td>\n      <td>Shohaib Islam Khan</td>\n      <td>0.0</td>\n    </tr>\n    <tr>\n      <th>22</th>\n      <td>23</td>\n      <td>201936022</td>\n      <td>Abu Saleh Md. Nakib Uddin</td>\n      <td>10.0</td>\n    </tr>\n    <tr>\n      <th>23</th>\n      <td>24</td>\n      <td>201936023</td>\n      <td>Sanjida Islam</td>\n      <td>3.0</td>\n    </tr>\n    <tr>\n      <th>24</th>\n      <td>25</td>\n      <td>201936024</td>\n      <td>Maruf Ahmed Khan</td>\n      <td>0.0</td>\n    </tr>\n    <tr>\n      <th>25</th>\n      <td>26</td>\n      <td>201936025</td>\n      <td>Md.Miraz Hossain</td>\n      <td>7.0</td>\n    </tr>\n    <tr>\n      <th>26</th>\n      <td>27</td>\n      <td>201936026</td>\n      <td>Muhamed Minhazur Rahman Zehad</td>\n      <td>2.0</td>\n    </tr>\n    <tr>\n      <th>27</th>\n      <td>28</td>\n      <td>201936027</td>\n      <td>Md.Wasiul Gani Farabi</td>\n      <td>3.5</td>\n    </tr>\n    <tr>\n      <th>28</th>\n      <td>29</td>\n      <td>201936029</td>\n      <td>Fahima Akter Azrin</td>\n      <td>6.0</td>\n    </tr>\n    <tr>\n      <th>29</th>\n      <td>30</td>\n      <td>201936030</td>\n      <td>Md. Shahriar Habib</td>\n      <td>5.0</td>\n    </tr>\n    <tr>\n      <th>30</th>\n      <td>31</td>\n      <td>201936031</td>\n      <td>Faria Aktar Tonny</td>\n      <td>4.0</td>\n    </tr>\n    <tr>\n      <th>31</th>\n      <td>32</td>\n      <td>201936032</td>\n      <td>Md. Shamim Hasan</td>\n      <td>6.0</td>\n    </tr>\n    <tr>\n      <th>32</th>\n      <td>33</td>\n      <td>201936033</td>\n      <td>Md. Omar Al Javed</td>\n      <td>6.0</td>\n    </tr>\n    <tr>\n      <th>33</th>\n      <td>34</td>\n      <td>201936034</td>\n      <td>Asmaul Husna</td>\n      <td>3.0</td>\n    </tr>\n    <tr>\n      <th>34</th>\n      <td>35</td>\n      <td>201936035</td>\n      <td>Md. Salahuddin Ashrafi</td>\n      <td>4.0</td>\n    </tr>\n    <tr>\n      <th>35</th>\n      <td>36</td>\n      <td>201936036</td>\n      <td>Mahedi Islam Chayan</td>\n      <td>5.0</td>\n    </tr>\n    <tr>\n      <th>36</th>\n      <td>37</td>\n      <td>201936037</td>\n      <td>Md. Mehedy Hassan</td>\n      <td>5.0</td>\n    </tr>\n    <tr>\n      <th>37</th>\n      <td>38</td>\n      <td>201936038</td>\n      <td>Zubaer Mostafa</td>\n      <td>0.0</td>\n    </tr>\n    <tr>\n      <th>38</th>\n      <td>39</td>\n      <td>201936039</td>\n      <td>Md. Tasmim Al Zaki</td>\n      <td>4.0</td>\n    </tr>\n    <tr>\n      <th>39</th>\n      <td>40</td>\n      <td>201936040</td>\n      <td>Tawfiq Hasan Hafizi</td>\n      <td>6.0</td>\n    </tr>\n    <tr>\n      <th>40</th>\n      <td>41</td>\n      <td>201936041</td>\n      <td>Zarif Mohammad Tazwar</td>\n      <td>0.0</td>\n    </tr>\n    <tr>\n      <th>41</th>\n      <td>42</td>\n      <td>201936042</td>\n      <td>Zayed Ur Rahman</td>\n      <td>4.0</td>\n    </tr>\n    <tr>\n      <th>42</th>\n      <td>43</td>\n      <td>201936043</td>\n      <td>Md. Ashfakul Karim Kausik</td>\n      <td>4.0</td>\n    </tr>\n    <tr>\n      <th>43</th>\n      <td>44</td>\n      <td>201936044</td>\n      <td>Fawzia Islam</td>\n      <td>3.0</td>\n    </tr>\n    <tr>\n      <th>44</th>\n      <td>45</td>\n      <td>201936045</td>\n      <td>Sabiha Afrin</td>\n      <td>0.0</td>\n    </tr>\n    <tr>\n      <th>45</th>\n      <td>46</td>\n      <td>201936046</td>\n      <td>Khondoker Safin Kaosar Saad</td>\n      <td>4.0</td>\n    </tr>\n    <tr>\n      <th>46</th>\n      <td>47</td>\n      <td>201936047</td>\n      <td>Ahamed Al Hassan Sunny</td>\n      <td>3.0</td>\n    </tr>\n    <tr>\n      <th>47</th>\n      <td>48</td>\n      <td>201936048</td>\n      <td>Md Faisal Moheuddin</td>\n      <td>4.0</td>\n    </tr>\n    <tr>\n      <th>48</th>\n      <td>49</td>\n      <td>201936049</td>\n      <td>S M Sadman Reza Fagun</td>\n      <td>0.0</td>\n    </tr>\n    <tr>\n      <th>49</th>\n      <td>50</td>\n      <td>201936050</td>\n      <td>Md.Tanvir Hasan Sarji</td>\n      <td>6.0</td>\n    </tr>\n  </tbody>\n</table>\n</div>"
     },
     "execution_count": 22,
     "metadata": {},
     "output_type": "execute_result"
    }
   ],
   "source": [
    "new_df"
   ],
   "metadata": {
    "collapsed": false,
    "pycharm": {
     "name": "#%%\n"
    }
   }
  },
  {
   "cell_type": "code",
   "execution_count": 27,
   "outputs": [],
   "source": [
    "df = new_df[new_df['mark']> 5]"
   ],
   "metadata": {
    "collapsed": false,
    "pycharm": {
     "name": "#%%\n"
    }
   }
  },
  {
   "cell_type": "code",
   "execution_count": 31,
   "outputs": [
    {
     "name": "stderr",
     "output_type": "stream",
     "text": [
      "C:\\Users\\Nakib\\AppData\\Local\\Temp\\ipykernel_12464\\442264247.py:1: SettingWithCopyWarning: \n",
      "A value is trying to be set on a copy of a slice from a DataFrame\n",
      "\n",
      "See the caveats in the documentation: https://pandas.pydata.org/pandas-docs/stable/user_guide/indexing.html#returning-a-view-versus-a-copy\n",
      "  df.sort_values('mark', axis=0, ascending=False, inplace=True, kind='quicksort', na_position='last', ignore_index=False, key=None)\n"
     ]
    }
   ],
   "source": [
    "df.sort_values('mark', axis=0, ascending=False, inplace=True, kind='quicksort', na_position='last', ignore_index=False, key=None)"
   ],
   "metadata": {
    "collapsed": false,
    "pycharm": {
     "name": "#%%\n"
    }
   }
  },
  {
   "cell_type": "code",
   "execution_count": 32,
   "outputs": [
    {
     "data": {
      "text/plain": "    Serial     Std ID                       Name  mark\n22      23  201936022  Abu Saleh Md. Nakib Uddin  10.0\n25      26  201936025           Md.Miraz Hossain   7.0\n16      17  201936016       M. M. Aflatun Kawsar   6.0\n20      21  201936020  Abdullah Md. Atik Hossein   6.0\n28      29  201936029         Fahima Akter Azrin   6.0\n31      32  201936032           Md. Shamim Hasan   6.0\n32      33  201936033          Md. Omar Al Javed   6.0\n39      40  201936040        Tawfiq Hasan Hafizi   6.0\n49      50  201936050      Md.Tanvir Hasan Sarji   6.0",
      "text/html": "<div>\n<style scoped>\n    .dataframe tbody tr th:only-of-type {\n        vertical-align: middle;\n    }\n\n    .dataframe tbody tr th {\n        vertical-align: top;\n    }\n\n    .dataframe thead th {\n        text-align: right;\n    }\n</style>\n<table border=\"1\" class=\"dataframe\">\n  <thead>\n    <tr style=\"text-align: right;\">\n      <th></th>\n      <th>Serial</th>\n      <th>Std ID</th>\n      <th>Name</th>\n      <th>mark</th>\n    </tr>\n  </thead>\n  <tbody>\n    <tr>\n      <th>22</th>\n      <td>23</td>\n      <td>201936022</td>\n      <td>Abu Saleh Md. Nakib Uddin</td>\n      <td>10.0</td>\n    </tr>\n    <tr>\n      <th>25</th>\n      <td>26</td>\n      <td>201936025</td>\n      <td>Md.Miraz Hossain</td>\n      <td>7.0</td>\n    </tr>\n    <tr>\n      <th>16</th>\n      <td>17</td>\n      <td>201936016</td>\n      <td>M. M. Aflatun Kawsar</td>\n      <td>6.0</td>\n    </tr>\n    <tr>\n      <th>20</th>\n      <td>21</td>\n      <td>201936020</td>\n      <td>Abdullah Md. Atik Hossein</td>\n      <td>6.0</td>\n    </tr>\n    <tr>\n      <th>28</th>\n      <td>29</td>\n      <td>201936029</td>\n      <td>Fahima Akter Azrin</td>\n      <td>6.0</td>\n    </tr>\n    <tr>\n      <th>31</th>\n      <td>32</td>\n      <td>201936032</td>\n      <td>Md. Shamim Hasan</td>\n      <td>6.0</td>\n    </tr>\n    <tr>\n      <th>32</th>\n      <td>33</td>\n      <td>201936033</td>\n      <td>Md. Omar Al Javed</td>\n      <td>6.0</td>\n    </tr>\n    <tr>\n      <th>39</th>\n      <td>40</td>\n      <td>201936040</td>\n      <td>Tawfiq Hasan Hafizi</td>\n      <td>6.0</td>\n    </tr>\n    <tr>\n      <th>49</th>\n      <td>50</td>\n      <td>201936050</td>\n      <td>Md.Tanvir Hasan Sarji</td>\n      <td>6.0</td>\n    </tr>\n  </tbody>\n</table>\n</div>"
     },
     "execution_count": 32,
     "metadata": {},
     "output_type": "execute_result"
    }
   ],
   "source": [
    "df"
   ],
   "metadata": {
    "collapsed": false,
    "pycharm": {
     "name": "#%%\n"
    }
   }
  },
  {
   "cell_type": "code",
   "execution_count": null,
   "outputs": [],
   "source": [],
   "metadata": {
    "collapsed": false,
    "pycharm": {
     "name": "#%%\n"
    }
   }
  }
 ],
 "metadata": {
  "kernelspec": {
   "display_name": "Python 3",
   "language": "python",
   "name": "python3"
  },
  "language_info": {
   "codemirror_mode": {
    "name": "ipython",
    "version": 2
   },
   "file_extension": ".py",
   "mimetype": "text/x-python",
   "name": "python",
   "nbconvert_exporter": "python",
   "pygments_lexer": "ipython2",
   "version": "2.7.6"
  }
 },
 "nbformat": 4,
 "nbformat_minor": 0
}