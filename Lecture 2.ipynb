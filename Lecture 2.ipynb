{
 "cells": [
  {
   "cell_type": "code",
   "execution_count": 1,
   "metadata": {
    "pycharm": {
     "name": "#%%\n"
    }
   },
   "outputs": [],
   "source": [
    "#Importing Dependencies\n",
    "import pandas as pd"
   ]
  },
  {
   "cell_type": "markdown",
   "metadata": {
    "pycharm": {
     "name": "#%% md\n"
    }
   },
   "source": [
    "## Creating Dataframe from Dictionary"
   ]
  },
  {
   "cell_type": "code",
   "execution_count": 47,
   "metadata": {
    "pycharm": {
     "name": "#%%\n"
    }
   },
   "outputs": [
    {
     "data": {
      "text/html": [
       "<div>\n",
       "<style scoped>\n",
       "    .dataframe tbody tr th:only-of-type {\n",
       "        vertical-align: middle;\n",
       "    }\n",
       "\n",
       "    .dataframe tbody tr th {\n",
       "        vertical-align: top;\n",
       "    }\n",
       "\n",
       "    .dataframe thead th {\n",
       "        text-align: right;\n",
       "    }\n",
       "</style>\n",
       "<table border=\"1\" class=\"dataframe\">\n",
       "  <thead>\n",
       "    <tr style=\"text-align: right;\">\n",
       "      <th></th>\n",
       "      <th>Date</th>\n",
       "      <th>Course Code</th>\n",
       "      <th>Course Name</th>\n",
       "    </tr>\n",
       "  </thead>\n",
       "  <tbody>\n",
       "    <tr>\n",
       "      <th>0</th>\n",
       "      <td>Sun, 7 Aug</td>\n",
       "      <td>IPE 435</td>\n",
       "      <td>Metal Cutting Process</td>\n",
       "    </tr>\n",
       "    <tr>\n",
       "      <th>1</th>\n",
       "      <td>Wed, 10 Aug</td>\n",
       "      <td>IPE 419</td>\n",
       "      <td>Modeling and Simulation</td>\n",
       "    </tr>\n",
       "    <tr>\n",
       "      <th>2</th>\n",
       "      <td>Sun, 14 Aug</td>\n",
       "      <td>IPE 415</td>\n",
       "      <td>Project Management</td>\n",
       "    </tr>\n",
       "    <tr>\n",
       "      <th>3</th>\n",
       "      <td>Sun, 21 Aug</td>\n",
       "      <td>IPE 417</td>\n",
       "      <td>Industrial Automation</td>\n",
       "    </tr>\n",
       "    <tr>\n",
       "      <th>4</th>\n",
       "      <td>Wed, 24 Aug</td>\n",
       "      <td>IPE 405</td>\n",
       "      <td>Supply Chain Management</td>\n",
       "    </tr>\n",
       "  </tbody>\n",
       "</table>\n",
       "</div>"
      ],
      "text/plain": [
       "           Date Course Code              Course Name\n",
       "0    Sun, 7 Aug     IPE 435    Metal Cutting Process\n",
       "1  Wed, 10 Aug      IPE 419  Modeling and Simulation\n",
       "2  Sun, 14 Aug      IPE 415       Project Management\n",
       "3   Sun, 21 Aug     IPE 417    Industrial Automation\n",
       "4  Wed, 24 Aug      IPE 405  Supply Chain Management"
      ]
     },
     "execution_count": 47,
     "metadata": {},
     "output_type": "execute_result"
    }
   ],
   "source": [
    "# Creating Dictionary\n",
    "routine_Dict = {\n",
    "    \"Date\": [\"Sun, 7 Aug\",\"Wed, 10 Aug \",\"Sun, 14 Aug \",\"Sun, 21 Aug\",\"Wed, 24 Aug \"],\n",
    "    \"Course Code\":[\"IPE 435\",\"IPE 419\",\"IPE 415\",\"IPE 417\", \"IPE 405\"],\n",
    "    \"Course Name\":[\"Metal Cutting Process\",\"Modeling and Simulation\",\"Project Management\",\"Industrial Automation\", \"Supply Chain Management\"]\n",
    "}\n",
    "routine = pd.DataFrame(routine_Dict)\n",
    "routine"
   ]
  },
  {
   "cell_type": "code",
   "execution_count": 43,
   "metadata": {
    "pycharm": {
     "name": "#%%\n"
    }
   },
   "outputs": [
    {
     "data": {
      "text/plain": [
       "[{'Date': 'Sun, 7 Aug', 'Course Name': 'Metal Cutting Process'},\n",
       " {'Date': 'Wed, 10 Aug ', 'Course Name': 'Modeling and Simulation'},\n",
       " {'Date': 'Sun, 14 Aug ', 'Course Name': 'Project Management'},\n",
       " {'Date': 'Sun, 21 Aug', 'Course Name': 'Industrial Automation'},\n",
       " {'Date': 'Wed, 24 Aug ', 'Course Name': 'Supply Chain Management'}]"
      ]
     },
     "execution_count": 43,
     "metadata": {},
     "output_type": "execute_result"
    }
   ],
   "source": [
    "# routine[routine['Course Name']==\"Metal Cutting Process\"][\"Date\"]\n",
    "routine.to_dict('records')"
   ]
  },
  {
   "cell_type": "markdown",
   "metadata": {
    "pycharm": {
     "name": "#%% md\n"
    }
   },
   "source": [
    "## Creating Data Frame from Tuples List"
   ]
  },
  {
   "cell_type": "code",
   "execution_count": 42,
   "metadata": {
    "pycharm": {
     "name": "#%%\n"
    }
   },
   "outputs": [
    {
     "data": {
      "text/html": [
       "<div>\n",
       "<style scoped>\n",
       "    .dataframe tbody tr th:only-of-type {\n",
       "        vertical-align: middle;\n",
       "    }\n",
       "\n",
       "    .dataframe tbody tr th {\n",
       "        vertical-align: top;\n",
       "    }\n",
       "\n",
       "    .dataframe thead th {\n",
       "        text-align: right;\n",
       "    }\n",
       "</style>\n",
       "<table border=\"1\" class=\"dataframe\">\n",
       "  <thead>\n",
       "    <tr style=\"text-align: right;\">\n",
       "      <th></th>\n",
       "      <th>DAY</th>\n",
       "      <th>TEMPERATURE</th>\n",
       "      <th>WINDSPEED</th>\n",
       "      <th>EVENT</th>\n",
       "    </tr>\n",
       "  </thead>\n",
       "  <tbody>\n",
       "    <tr>\n",
       "      <th>0</th>\n",
       "      <td>Sunday</td>\n",
       "      <td>32</td>\n",
       "      <td>6</td>\n",
       "      <td>Rain</td>\n",
       "    </tr>\n",
       "    <tr>\n",
       "      <th>1</th>\n",
       "      <td>Monday</td>\n",
       "      <td>35</td>\n",
       "      <td>7</td>\n",
       "      <td>Sunny</td>\n",
       "    </tr>\n",
       "    <tr>\n",
       "      <th>2</th>\n",
       "      <td>Tuesday</td>\n",
       "      <td>28</td>\n",
       "      <td>2</td>\n",
       "      <td>Snow</td>\n",
       "    </tr>\n",
       "  </tbody>\n",
       "</table>\n",
       "</div>"
      ],
      "text/plain": [
       "       DAY  TEMPERATURE  WINDSPEED  EVENT\n",
       "0   Sunday           32          6   Rain\n",
       "1   Monday           35          7  Sunny\n",
       "2  Tuesday           28          2   Snow"
      ]
     },
     "execution_count": 42,
     "metadata": {},
     "output_type": "execute_result"
    }
   ],
   "source": [
    "weather_Data = [\n",
    "    (\"Sunday\",32,6,\"Rain\"), # this tuple is nothing but row\n",
    "    (\"Monday\",35,7,\"Sunny\"),\n",
    "    (\"Tuesday\",28,2,\"Snow\")\n",
    "]\n",
    "# When you are creating dataframe one thing you need to do is you need to provide column name\n",
    "df = pd.DataFrame(weather_Data,columns=[\"DAY\",\"TEMPERATURE\",\"WINDSPEED\",\"EVENT\"])\n",
    "df"
   ]
  },
  {
   "cell_type": "markdown",
   "metadata": {
    "pycharm": {
     "name": "#%% md\n"
    }
   },
   "source": [
    "## Creating A dataframe from of dictionaries"
   ]
  },
  {
   "cell_type": "code",
   "execution_count": 45,
   "metadata": {
    "pycharm": {
     "name": "#%%\n"
    }
   },
   "outputs": [],
   "source": [
    "routine_term4_1 =[\n",
    "    {'Date': 'Sun, 7 Aug', 'Course Name': 'Metal Cutting Process'},\n",
    "    {'Date': 'Wed, 10 Aug ', 'Course Name': 'Modeling and Simulation'},\n",
    "    {'Date': 'Sun, 14 Aug ', 'Course Name': 'Project Management'},\n",
    "    {'Date': 'Sun, 21 Aug', 'Course Name': 'Industrial Automation'},\n",
    "    {'Date': 'Wed, 24 Aug ', 'Course Name': 'Supply Chain Management'}\n",
    "]\n",
    "df_rouotine= pd.DataFrame(routine_term4_1)\n",
    "df_rouotine"
   ]
  }
 ],
 "metadata": {
  "kernelspec": {
   "display_name": "Python 3 (ipykernel)",
   "language": "python",
   "name": "python3"
  },
  "language_info": {
   "codemirror_mode": {
    "name": "ipython",
    "version": 3
   },
   "file_extension": ".py",
   "mimetype": "text/x-python",
   "name": "python",
   "nbconvert_exporter": "python",
   "pygments_lexer": "ipython3",
   "version": "3.10.2"
  }
 },
 "nbformat": 4,
 "nbformat_minor": 1
}