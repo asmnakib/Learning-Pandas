{
 "cells": [
  {
   "cell_type": "markdown",
   "source": [
    "# Concat DataFrames\n",
    "1."
   ],
   "metadata": {
    "collapsed": false,
    "pycharm": {
     "name": "#%% md\n"
    }
   }
  },
  {
   "cell_type": "code",
   "execution_count": 1,
   "outputs": [],
   "source": [
    "import pandas as pd"
   ],
   "metadata": {
    "collapsed": false,
    "pycharm": {
     "name": "#%%\n"
    }
   }
  },
  {
   "cell_type": "code",
   "execution_count": 6,
   "outputs": [
    {
     "data": {
      "text/plain": "         city  temperature  humidity\n0       Dhaka           38        70\n1  Chittagong           35        90\n2    Rajshahi           39        60",
      "text/html": "<div>\n<style scoped>\n    .dataframe tbody tr th:only-of-type {\n        vertical-align: middle;\n    }\n\n    .dataframe tbody tr th {\n        vertical-align: top;\n    }\n\n    .dataframe thead th {\n        text-align: right;\n    }\n</style>\n<table border=\"1\" class=\"dataframe\">\n  <thead>\n    <tr style=\"text-align: right;\">\n      <th></th>\n      <th>city</th>\n      <th>temperature</th>\n      <th>humidity</th>\n    </tr>\n  </thead>\n  <tbody>\n    <tr>\n      <th>0</th>\n      <td>Dhaka</td>\n      <td>38</td>\n      <td>70</td>\n    </tr>\n    <tr>\n      <th>1</th>\n      <td>Chittagong</td>\n      <td>35</td>\n      <td>90</td>\n    </tr>\n    <tr>\n      <th>2</th>\n      <td>Rajshahi</td>\n      <td>39</td>\n      <td>60</td>\n    </tr>\n  </tbody>\n</table>\n</div>"
     },
     "execution_count": 6,
     "metadata": {},
     "output_type": "execute_result"
    }
   ],
   "source": [
    "bangladesh_weather =pd.DataFrame({\n",
    "    'city':[\"Dhaka\",\"Chittagong\",\"Rajshahi\"],\n",
    "    'temperature':[38,35,39],\n",
    "    'humidity':[70,90,60]\n",
    "})\n",
    "\n",
    "bangladesh_weather"
   ],
   "metadata": {
    "collapsed": false,
    "pycharm": {
     "name": "#%%\n"
    }
   }
  },
  {
   "cell_type": "code",
   "execution_count": 8,
   "outputs": [
    {
     "data": {
      "text/plain": "        city  temperature  humidity\n0  New Yourk           21        68\n1    Shikago           14        75\n2    Orlando           35        65",
      "text/html": "<div>\n<style scoped>\n    .dataframe tbody tr th:only-of-type {\n        vertical-align: middle;\n    }\n\n    .dataframe tbody tr th {\n        vertical-align: top;\n    }\n\n    .dataframe thead th {\n        text-align: right;\n    }\n</style>\n<table border=\"1\" class=\"dataframe\">\n  <thead>\n    <tr style=\"text-align: right;\">\n      <th></th>\n      <th>city</th>\n      <th>temperature</th>\n      <th>humidity</th>\n    </tr>\n  </thead>\n  <tbody>\n    <tr>\n      <th>0</th>\n      <td>New Yourk</td>\n      <td>21</td>\n      <td>68</td>\n    </tr>\n    <tr>\n      <th>1</th>\n      <td>Shikago</td>\n      <td>14</td>\n      <td>75</td>\n    </tr>\n    <tr>\n      <th>2</th>\n      <td>Orlando</td>\n      <td>35</td>\n      <td>65</td>\n    </tr>\n  </tbody>\n</table>\n</div>"
     },
     "execution_count": 8,
     "metadata": {},
     "output_type": "execute_result"
    }
   ],
   "source": [
    "weather_usa =pd.DataFrame({\n",
    "    'city':[\"New Yourk\",\"Shikago\",\"Orlando\"],\n",
    "    'temperature':[21,14,35],\n",
    "    'humidity':[68,75,65]\n",
    "})\n",
    "weather_usa"
   ],
   "metadata": {
    "collapsed": false,
    "pycharm": {
     "name": "#%%\n"
    }
   }
  },
  {
   "cell_type": "markdown",
   "source": [
    "1. We two Data frame, i want to concat both dataframe to make one data frame containing both countries data set\n",
    "\n",
    "        pd.concat([data frames i want to join together])"
   ],
   "metadata": {
    "collapsed": false,
    "pycharm": {
     "name": "#%% md\n"
    }
   }
  },
  {
   "cell_type": "code",
   "execution_count": 9,
   "outputs": [
    {
     "data": {
      "text/plain": "         city  temperature  humidity\n0       Dhaka           38        70\n1  Chittagong           35        90\n2    Rajshahi           39        60\n0   New Yourk           21        68\n1     Shikago           14        75\n2     Orlando           35        65",
      "text/html": "<div>\n<style scoped>\n    .dataframe tbody tr th:only-of-type {\n        vertical-align: middle;\n    }\n\n    .dataframe tbody tr th {\n        vertical-align: top;\n    }\n\n    .dataframe thead th {\n        text-align: right;\n    }\n</style>\n<table border=\"1\" class=\"dataframe\">\n  <thead>\n    <tr style=\"text-align: right;\">\n      <th></th>\n      <th>city</th>\n      <th>temperature</th>\n      <th>humidity</th>\n    </tr>\n  </thead>\n  <tbody>\n    <tr>\n      <th>0</th>\n      <td>Dhaka</td>\n      <td>38</td>\n      <td>70</td>\n    </tr>\n    <tr>\n      <th>1</th>\n      <td>Chittagong</td>\n      <td>35</td>\n      <td>90</td>\n    </tr>\n    <tr>\n      <th>2</th>\n      <td>Rajshahi</td>\n      <td>39</td>\n      <td>60</td>\n    </tr>\n    <tr>\n      <th>0</th>\n      <td>New Yourk</td>\n      <td>21</td>\n      <td>68</td>\n    </tr>\n    <tr>\n      <th>1</th>\n      <td>Shikago</td>\n      <td>14</td>\n      <td>75</td>\n    </tr>\n    <tr>\n      <th>2</th>\n      <td>Orlando</td>\n      <td>35</td>\n      <td>65</td>\n    </tr>\n  </tbody>\n</table>\n</div>"
     },
     "execution_count": 9,
     "metadata": {},
     "output_type": "execute_result"
    }
   ],
   "source": [
    "pd.concat([bangladesh_weather,weather_usa])\n",
    "# it is appending on row direction"
   ],
   "metadata": {
    "collapsed": false,
    "pycharm": {
     "name": "#%%\n"
    }
   }
  },
  {
   "cell_type": "code",
   "execution_count": 11,
   "outputs": [
    {
     "data": {
      "text/plain": "         city  temperature  humidity       city  temperature  humidity\n0       Dhaka           38        70  New Yourk           21        68\n1  Chittagong           35        90    Shikago           14        75\n2    Rajshahi           39        60    Orlando           35        65",
      "text/html": "<div>\n<style scoped>\n    .dataframe tbody tr th:only-of-type {\n        vertical-align: middle;\n    }\n\n    .dataframe tbody tr th {\n        vertical-align: top;\n    }\n\n    .dataframe thead th {\n        text-align: right;\n    }\n</style>\n<table border=\"1\" class=\"dataframe\">\n  <thead>\n    <tr style=\"text-align: right;\">\n      <th></th>\n      <th>city</th>\n      <th>temperature</th>\n      <th>humidity</th>\n      <th>city</th>\n      <th>temperature</th>\n      <th>humidity</th>\n    </tr>\n  </thead>\n  <tbody>\n    <tr>\n      <th>0</th>\n      <td>Dhaka</td>\n      <td>38</td>\n      <td>70</td>\n      <td>New Yourk</td>\n      <td>21</td>\n      <td>68</td>\n    </tr>\n    <tr>\n      <th>1</th>\n      <td>Chittagong</td>\n      <td>35</td>\n      <td>90</td>\n      <td>Shikago</td>\n      <td>14</td>\n      <td>75</td>\n    </tr>\n    <tr>\n      <th>2</th>\n      <td>Rajshahi</td>\n      <td>39</td>\n      <td>60</td>\n      <td>Orlando</td>\n      <td>35</td>\n      <td>65</td>\n    </tr>\n  </tbody>\n</table>\n</div>"
     },
     "execution_count": 11,
     "metadata": {},
     "output_type": "execute_result"
    }
   ],
   "source": [
    "# we need to make concatation in the column wise , we need to pass an argument axis =1\n",
    "\n",
    "new_df =pd.concat([bangladesh_weather,weather_usa],axis=1)\n",
    "new_df"
   ],
   "metadata": {
    "collapsed": false,
    "pycharm": {
     "name": "#%%\n"
    }
   }
  },
  {
   "cell_type": "code",
   "execution_count": 13,
   "outputs": [
    {
     "data": {
      "text/plain": "         city  temperature  humidity\n0       Dhaka           38        70\n1  Chittagong           35        90\n2    Rajshahi           39        60\n3   New Yourk           21        68\n4     Shikago           14        75\n5     Orlando           35        65",
      "text/html": "<div>\n<style scoped>\n    .dataframe tbody tr th:only-of-type {\n        vertical-align: middle;\n    }\n\n    .dataframe tbody tr th {\n        vertical-align: top;\n    }\n\n    .dataframe thead th {\n        text-align: right;\n    }\n</style>\n<table border=\"1\" class=\"dataframe\">\n  <thead>\n    <tr style=\"text-align: right;\">\n      <th></th>\n      <th>city</th>\n      <th>temperature</th>\n      <th>humidity</th>\n    </tr>\n  </thead>\n  <tbody>\n    <tr>\n      <th>0</th>\n      <td>Dhaka</td>\n      <td>38</td>\n      <td>70</td>\n    </tr>\n    <tr>\n      <th>1</th>\n      <td>Chittagong</td>\n      <td>35</td>\n      <td>90</td>\n    </tr>\n    <tr>\n      <th>2</th>\n      <td>Rajshahi</td>\n      <td>39</td>\n      <td>60</td>\n    </tr>\n    <tr>\n      <th>3</th>\n      <td>New Yourk</td>\n      <td>21</td>\n      <td>68</td>\n    </tr>\n    <tr>\n      <th>4</th>\n      <td>Shikago</td>\n      <td>14</td>\n      <td>75</td>\n    </tr>\n    <tr>\n      <th>5</th>\n      <td>Orlando</td>\n      <td>35</td>\n      <td>65</td>\n    </tr>\n  </tbody>\n</table>\n</div>"
     },
     "execution_count": 13,
     "metadata": {},
     "output_type": "execute_result"
    }
   ],
   "source": [
    "pd.concat([bangladesh_weather,weather_usa],ignore_index=True)\n",
    "# index is not condtinous , so i need to pass an argument named ignore_index"
   ],
   "metadata": {
    "collapsed": false,
    "pycharm": {
     "name": "#%%\n"
    }
   }
  },
  {
   "cell_type": "code",
   "execution_count": 18,
   "outputs": [
    {
     "data": {
      "text/plain": "                    city  temperature  humidity\nBangladesh 0       Dhaka           38        70\n           1  Chittagong           35        90\n           2    Rajshahi           39        60\nUSA        0   New Yourk           21        68\n           1     Shikago           14        75\n           2     Orlando           35        65",
      "text/html": "<div>\n<style scoped>\n    .dataframe tbody tr th:only-of-type {\n        vertical-align: middle;\n    }\n\n    .dataframe tbody tr th {\n        vertical-align: top;\n    }\n\n    .dataframe thead th {\n        text-align: right;\n    }\n</style>\n<table border=\"1\" class=\"dataframe\">\n  <thead>\n    <tr style=\"text-align: right;\">\n      <th></th>\n      <th></th>\n      <th>city</th>\n      <th>temperature</th>\n      <th>humidity</th>\n    </tr>\n  </thead>\n  <tbody>\n    <tr>\n      <th rowspan=\"3\" valign=\"top\">Bangladesh</th>\n      <th>0</th>\n      <td>Dhaka</td>\n      <td>38</td>\n      <td>70</td>\n    </tr>\n    <tr>\n      <th>1</th>\n      <td>Chittagong</td>\n      <td>35</td>\n      <td>90</td>\n    </tr>\n    <tr>\n      <th>2</th>\n      <td>Rajshahi</td>\n      <td>39</td>\n      <td>60</td>\n    </tr>\n    <tr>\n      <th rowspan=\"3\" valign=\"top\">USA</th>\n      <th>0</th>\n      <td>New Yourk</td>\n      <td>21</td>\n      <td>68</td>\n    </tr>\n    <tr>\n      <th>1</th>\n      <td>Shikago</td>\n      <td>14</td>\n      <td>75</td>\n    </tr>\n    <tr>\n      <th>2</th>\n      <td>Orlando</td>\n      <td>35</td>\n      <td>65</td>\n    </tr>\n  </tbody>\n</table>\n</div>"
     },
     "execution_count": 18,
     "metadata": {},
     "output_type": "execute_result"
    }
   ],
   "source": [
    "# I can Also give keys\n",
    "# you want to give additional index\n",
    "df = pd.concat([bangladesh_weather,weather_usa],keys=['Bangladesh','USA'])\n",
    "df"
   ],
   "metadata": {
    "collapsed": false,
    "pycharm": {
     "name": "#%%\n"
    }
   }
  },
  {
   "cell_type": "code",
   "execution_count": 19,
   "outputs": [
    {
     "data": {
      "text/plain": "        city  temperature  humidity\n0  New Yourk           21        68\n1    Shikago           14        75\n2    Orlando           35        65",
      "text/html": "<div>\n<style scoped>\n    .dataframe tbody tr th:only-of-type {\n        vertical-align: middle;\n    }\n\n    .dataframe tbody tr th {\n        vertical-align: top;\n    }\n\n    .dataframe thead th {\n        text-align: right;\n    }\n</style>\n<table border=\"1\" class=\"dataframe\">\n  <thead>\n    <tr style=\"text-align: right;\">\n      <th></th>\n      <th>city</th>\n      <th>temperature</th>\n      <th>humidity</th>\n    </tr>\n  </thead>\n  <tbody>\n    <tr>\n      <th>0</th>\n      <td>New Yourk</td>\n      <td>21</td>\n      <td>68</td>\n    </tr>\n    <tr>\n      <th>1</th>\n      <td>Shikago</td>\n      <td>14</td>\n      <td>75</td>\n    </tr>\n    <tr>\n      <th>2</th>\n      <td>Orlando</td>\n      <td>35</td>\n      <td>65</td>\n    </tr>\n  </tbody>\n</table>\n</div>"
     },
     "execution_count": 19,
     "metadata": {},
     "output_type": "execute_result"
    }
   ],
   "source": [
    "df.loc[\"USA\"]\n",
    "# by using keys we can retreive data"
   ],
   "metadata": {
    "collapsed": false,
    "pycharm": {
     "name": "#%%\n"
    }
   }
  },
  {
   "cell_type": "markdown",
   "source": [
    "## Concatination Using Index"
   ],
   "metadata": {
    "collapsed": false,
    "pycharm": {
     "name": "#%% md\n"
    }
   }
  },
  {
   "cell_type": "code",
   "execution_count": 22,
   "outputs": [
    {
     "data": {
      "text/plain": "       city  temperature\n0    mumbai           32\n1     delhi           45\n2  banglore           30",
      "text/html": "<div>\n<style scoped>\n    .dataframe tbody tr th:only-of-type {\n        vertical-align: middle;\n    }\n\n    .dataframe tbody tr th {\n        vertical-align: top;\n    }\n\n    .dataframe thead th {\n        text-align: right;\n    }\n</style>\n<table border=\"1\" class=\"dataframe\">\n  <thead>\n    <tr style=\"text-align: right;\">\n      <th></th>\n      <th>city</th>\n      <th>temperature</th>\n    </tr>\n  </thead>\n  <tbody>\n    <tr>\n      <th>0</th>\n      <td>mumbai</td>\n      <td>32</td>\n    </tr>\n    <tr>\n      <th>1</th>\n      <td>delhi</td>\n      <td>45</td>\n    </tr>\n    <tr>\n      <th>2</th>\n      <td>banglore</td>\n      <td>30</td>\n    </tr>\n  </tbody>\n</table>\n</div>"
     },
     "execution_count": 22,
     "metadata": {},
     "output_type": "execute_result"
    }
   ],
   "source": [
    "temperature_df = pd.DataFrame({\n",
    "    \"city\": [\"mumbai\",\"delhi\",\"banglore\"],\n",
    "    \"temperature\": [32,45,30],\n",
    "})\n",
    "temperature_df"
   ],
   "metadata": {
    "collapsed": false,
    "pycharm": {
     "name": "#%%\n"
    }
   }
  },
  {
   "cell_type": "code",
   "execution_count": 21,
   "outputs": [
    {
     "data": {
      "text/plain": "        city  windspeed\n0      delhi          7\n1  Bangalure         45\n2     mumbai         12",
      "text/html": "<div>\n<style scoped>\n    .dataframe tbody tr th:only-of-type {\n        vertical-align: middle;\n    }\n\n    .dataframe tbody tr th {\n        vertical-align: top;\n    }\n\n    .dataframe thead th {\n        text-align: right;\n    }\n</style>\n<table border=\"1\" class=\"dataframe\">\n  <thead>\n    <tr style=\"text-align: right;\">\n      <th></th>\n      <th>city</th>\n      <th>windspeed</th>\n    </tr>\n  </thead>\n  <tbody>\n    <tr>\n      <th>0</th>\n      <td>delhi</td>\n      <td>7</td>\n    </tr>\n    <tr>\n      <th>1</th>\n      <td>Bangalure</td>\n      <td>45</td>\n    </tr>\n    <tr>\n      <th>2</th>\n      <td>mumbai</td>\n      <td>12</td>\n    </tr>\n  </tbody>\n</table>\n</div>"
     },
     "execution_count": 21,
     "metadata": {},
     "output_type": "execute_result"
    }
   ],
   "source": [
    "windspeed_df = pd.DataFrame({\n",
    "    \"city\": [\"delhi\",\"Bangalure\",\"mumbai\"],\n",
    "    \"windspeed\": [7,45, 12],\n",
    "})\n",
    "windspeed_df"
   ],
   "metadata": {
    "collapsed": false,
    "pycharm": {
     "name": "#%%\n"
    }
   }
  },
  {
   "cell_type": "markdown",
   "source": [],
   "metadata": {
    "collapsed": false,
    "pycharm": {
     "name": "#%% md\n"
    }
   }
  },
  {
   "cell_type": "code",
   "execution_count": 30,
   "outputs": [
    {
     "data": {
      "text/plain": "       city  temperature       city  windspeed\n0    mumbai           32      delhi          7\n1     delhi           45  Bangalure         45\n2  banglore           30     mumbai         12",
      "text/html": "<div>\n<style scoped>\n    .dataframe tbody tr th:only-of-type {\n        vertical-align: middle;\n    }\n\n    .dataframe tbody tr th {\n        vertical-align: top;\n    }\n\n    .dataframe thead th {\n        text-align: right;\n    }\n</style>\n<table border=\"1\" class=\"dataframe\">\n  <thead>\n    <tr style=\"text-align: right;\">\n      <th></th>\n      <th>city</th>\n      <th>temperature</th>\n      <th>city</th>\n      <th>windspeed</th>\n    </tr>\n  </thead>\n  <tbody>\n    <tr>\n      <th>0</th>\n      <td>mumbai</td>\n      <td>32</td>\n      <td>delhi</td>\n      <td>7</td>\n    </tr>\n    <tr>\n      <th>1</th>\n      <td>delhi</td>\n      <td>45</td>\n      <td>Bangalure</td>\n      <td>45</td>\n    </tr>\n    <tr>\n      <th>2</th>\n      <td>banglore</td>\n      <td>30</td>\n      <td>mumbai</td>\n      <td>12</td>\n    </tr>\n  </tbody>\n</table>\n</div>"
     },
     "execution_count": 30,
     "metadata": {},
     "output_type": "execute_result"
    }
   ],
   "source": [
    "sd=pd.concat([temperature_df,windspeed_df],axis=1)\n",
    "# for making adding as a column\n",
    "sd"
   ],
   "metadata": {
    "collapsed": false,
    "pycharm": {
     "name": "#%%\n"
    }
   }
  },
  {
   "cell_type": "code",
   "execution_count": 31,
   "outputs": [
    {
     "data": {
      "text/plain": "     city  windspeed\n0   delhi          7\n1  mumbai         12",
      "text/html": "<div>\n<style scoped>\n    .dataframe tbody tr th:only-of-type {\n        vertical-align: middle;\n    }\n\n    .dataframe tbody tr th {\n        vertical-align: top;\n    }\n\n    .dataframe thead th {\n        text-align: right;\n    }\n</style>\n<table border=\"1\" class=\"dataframe\">\n  <thead>\n    <tr style=\"text-align: right;\">\n      <th></th>\n      <th>city</th>\n      <th>windspeed</th>\n    </tr>\n  </thead>\n  <tbody>\n    <tr>\n      <th>0</th>\n      <td>delhi</td>\n      <td>7</td>\n    </tr>\n    <tr>\n      <th>1</th>\n      <td>mumbai</td>\n      <td>12</td>\n    </tr>\n  </tbody>\n</table>\n</div>"
     },
     "execution_count": 31,
     "metadata": {},
     "output_type": "execute_result"
    }
   ],
   "source": [
    "# some times data are missing that time i need to do something\n",
    "windspeed_df = pd.DataFrame({\n",
    "    \"city\": [\"delhi\",\"mumbai\"],\n",
    "    \"windspeed\": [7, 12],\n",
    "})\n",
    "windspeed_df"
   ],
   "metadata": {
    "collapsed": false,
    "pycharm": {
     "name": "#%%\n"
    }
   }
  },
  {
   "cell_type": "code",
   "execution_count": 34,
   "outputs": [
    {
     "data": {
      "text/plain": "       city  temperature    city  windspeed\n0    mumbai           32   delhi        7.0\n1     delhi           45  mumbai       12.0\n2  banglore           30     NaN        NaN",
      "text/html": "<div>\n<style scoped>\n    .dataframe tbody tr th:only-of-type {\n        vertical-align: middle;\n    }\n\n    .dataframe tbody tr th {\n        vertical-align: top;\n    }\n\n    .dataframe thead th {\n        text-align: right;\n    }\n</style>\n<table border=\"1\" class=\"dataframe\">\n  <thead>\n    <tr style=\"text-align: right;\">\n      <th></th>\n      <th>city</th>\n      <th>temperature</th>\n      <th>city</th>\n      <th>windspeed</th>\n    </tr>\n  </thead>\n  <tbody>\n    <tr>\n      <th>0</th>\n      <td>mumbai</td>\n      <td>32</td>\n      <td>delhi</td>\n      <td>7.0</td>\n    </tr>\n    <tr>\n      <th>1</th>\n      <td>delhi</td>\n      <td>45</td>\n      <td>mumbai</td>\n      <td>12.0</td>\n    </tr>\n    <tr>\n      <th>2</th>\n      <td>banglore</td>\n      <td>30</td>\n      <td>NaN</td>\n      <td>NaN</td>\n    </tr>\n  </tbody>\n</table>\n</div>"
     },
     "execution_count": 34,
     "metadata": {},
     "output_type": "execute_result"
    }
   ],
   "source": [
    "pd.concat([temperature_df,windspeed_df],axis=1)"
   ],
   "metadata": {
    "collapsed": false,
    "pycharm": {
     "name": "#%%\n"
    }
   }
  },
  {
   "cell_type": "code",
   "execution_count": 36,
   "outputs": [
    {
     "data": {
      "text/plain": "       city  temperature\n0    mumbai           32\n1     delhi           45\n2  banglore           30",
      "text/html": "<div>\n<style scoped>\n    .dataframe tbody tr th:only-of-type {\n        vertical-align: middle;\n    }\n\n    .dataframe tbody tr th {\n        vertical-align: top;\n    }\n\n    .dataframe thead th {\n        text-align: right;\n    }\n</style>\n<table border=\"1\" class=\"dataframe\">\n  <thead>\n    <tr style=\"text-align: right;\">\n      <th></th>\n      <th>city</th>\n      <th>temperature</th>\n    </tr>\n  </thead>\n  <tbody>\n    <tr>\n      <th>0</th>\n      <td>mumbai</td>\n      <td>32</td>\n    </tr>\n    <tr>\n      <th>1</th>\n      <td>delhi</td>\n      <td>45</td>\n    </tr>\n    <tr>\n      <th>2</th>\n      <td>banglore</td>\n      <td>30</td>\n    </tr>\n  </tbody>\n</table>\n</div>"
     },
     "execution_count": 36,
     "metadata": {},
     "output_type": "execute_result"
    }
   ],
   "source": [
    "# the order of data is different we need to do something\n",
    "\n",
    "\n",
    "# while creating dataframe index can be given\n",
    "temperature_df = pd.DataFrame({\n",
    "    \"city\": [\"mumbai\",\"delhi\",\"banglore\"],\n",
    "    \"temperature\": [32,45,30],\n",
    "},index=[0,1,2])\n",
    "temperature_df"
   ],
   "metadata": {
    "collapsed": false,
    "pycharm": {
     "name": "#%%\n"
    }
   }
  },
  {
   "cell_type": "code",
   "execution_count": 37,
   "outputs": [
    {
     "data": {
      "text/plain": "     city  windspeed\n1   delhi          7\n0  mumbai         12",
      "text/html": "<div>\n<style scoped>\n    .dataframe tbody tr th:only-of-type {\n        vertical-align: middle;\n    }\n\n    .dataframe tbody tr th {\n        vertical-align: top;\n    }\n\n    .dataframe thead th {\n        text-align: right;\n    }\n</style>\n<table border=\"1\" class=\"dataframe\">\n  <thead>\n    <tr style=\"text-align: right;\">\n      <th></th>\n      <th>city</th>\n      <th>windspeed</th>\n    </tr>\n  </thead>\n  <tbody>\n    <tr>\n      <th>1</th>\n      <td>delhi</td>\n      <td>7</td>\n    </tr>\n    <tr>\n      <th>0</th>\n      <td>mumbai</td>\n      <td>12</td>\n    </tr>\n  </tbody>\n</table>\n</div>"
     },
     "execution_count": 37,
     "metadata": {},
     "output_type": "execute_result"
    }
   ],
   "source": [
    "windspeed_df = pd.DataFrame({\n",
    "    \"city\": [\"delhi\",\"mumbai\"],\n",
    "    \"windspeed\": [7, 12],\n",
    "},index=[1,0])\n",
    "windspeed_df"
   ],
   "metadata": {
    "collapsed": false,
    "pycharm": {
     "name": "#%%\n"
    }
   }
  },
  {
   "cell_type": "code",
   "execution_count": 41,
   "outputs": [],
   "source": [
    "new_df= pd.concat([temperature_df,windspeed_df],axis=1)"
   ],
   "metadata": {
    "collapsed": false,
    "pycharm": {
     "name": "#%%\n"
    }
   }
  },
  {
   "cell_type": "code",
   "execution_count": 42,
   "outputs": [
    {
     "data": {
      "text/plain": "0    Humid\n1      Dry\n2     Rain\nName: event, dtype: object"
     },
     "execution_count": 42,
     "metadata": {},
     "output_type": "execute_result"
    }
   ],
   "source": [
    "# we can also join data frame with a series\n",
    "s= pd.Series([\"Humid\",\"Dry\",\"Rain\"],name=\"event\")\n",
    "s"
   ],
   "metadata": {
    "collapsed": false,
    "pycharm": {
     "name": "#%%\n"
    }
   }
  },
  {
   "cell_type": "code",
   "execution_count": 43,
   "outputs": [],
   "source": [
    "new_df_final= pd.concat([new_df,s],axis=1)"
   ],
   "metadata": {
    "collapsed": false,
    "pycharm": {
     "name": "#%%\n"
    }
   }
  },
  {
   "cell_type": "code",
   "execution_count": 45,
   "outputs": [
    {
     "data": {
      "text/plain": "       city  temperature    city  windspeed  event\n0    mumbai           32  mumbai       12.0  Humid\n1     delhi           45   delhi        7.0    Dry\n2  banglore           30     NaN        NaN   Rain",
      "text/html": "<div>\n<style scoped>\n    .dataframe tbody tr th:only-of-type {\n        vertical-align: middle;\n    }\n\n    .dataframe tbody tr th {\n        vertical-align: top;\n    }\n\n    .dataframe thead th {\n        text-align: right;\n    }\n</style>\n<table border=\"1\" class=\"dataframe\">\n  <thead>\n    <tr style=\"text-align: right;\">\n      <th></th>\n      <th>city</th>\n      <th>temperature</th>\n      <th>city</th>\n      <th>windspeed</th>\n      <th>event</th>\n    </tr>\n  </thead>\n  <tbody>\n    <tr>\n      <th>0</th>\n      <td>mumbai</td>\n      <td>32</td>\n      <td>mumbai</td>\n      <td>12.0</td>\n      <td>Humid</td>\n    </tr>\n    <tr>\n      <th>1</th>\n      <td>delhi</td>\n      <td>45</td>\n      <td>delhi</td>\n      <td>7.0</td>\n      <td>Dry</td>\n    </tr>\n    <tr>\n      <th>2</th>\n      <td>banglore</td>\n      <td>30</td>\n      <td>NaN</td>\n      <td>NaN</td>\n      <td>Rain</td>\n    </tr>\n  </tbody>\n</table>\n</div>"
     },
     "execution_count": 45,
     "metadata": {},
     "output_type": "execute_result"
    }
   ],
   "source": [
    "new_df_final"
   ],
   "metadata": {
    "collapsed": false,
    "pycharm": {
     "name": "#%%\n"
    }
   }
  },
  {
   "cell_type": "code",
   "execution_count": null,
   "outputs": [],
   "source": [],
   "metadata": {
    "collapsed": false,
    "pycharm": {
     "name": "#%%\n"
    }
   }
  }
 ],
 "metadata": {
  "kernelspec": {
   "display_name": "Python 3",
   "language": "python",
   "name": "python3"
  },
  "language_info": {
   "codemirror_mode": {
    "name": "ipython",
    "version": 2
   },
   "file_extension": ".py",
   "mimetype": "text/x-python",
   "name": "python",
   "nbconvert_exporter": "python",
   "pygments_lexer": "ipython2",
   "version": "2.7.6"
  }
 },
 "nbformat": 4,
 "nbformat_minor": 0
}